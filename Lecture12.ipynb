{
 "cells": [
  {
   "cell_type": "markdown",
   "metadata": {},
   "source": [
    "# Lecture 12 - Quicksort"
   ]
  },
  {
   "cell_type": "code",
   "execution_count": 1,
   "metadata": {},
   "outputs": [
    {
     "name": "stdout",
     "output_type": "stream",
     "text": [
      "Unsorted: [68 90 25 73  2 24 19 89 49 99 43 75 40 24 76 11  8 44 45  8]\n",
      "Quicksort-Sorted: [ 2  8  8 11 19 24 24 25 40 43 44 45 49 68 73 75 76 89 90 99]\n",
      "Unsorted: [2, 17, 5, 3, 9, 4, 11, 13, 5]\n",
      "Quicksort-Sorted: [2, 3, 4, 5, 5, 9, 11, 13, 17]\n"
     ]
    }
   ],
   "source": [
    "import numpy as np\n",
    "\n",
    "length = 20\n",
    "array = np.random.randint(100, size=length)\n",
    "\n",
    "def q_part(arr, low, high):\n",
    "    pivot_index = (low + high) // 2\n",
    "    pivot_value = arr[pivot_index]\n",
    "    # Move pivot out of place\n",
    "    arr[high], arr[pivot_index] = arr[pivot_index], arr[high]\n",
    "    sp = low\n",
    "    for su in range(low, high):\n",
    "        if arr[su] < pivot_value:\n",
    "            arr[sp], arr[su] = arr[su], arr[sp]\n",
    "            sp=sp+1\n",
    "    arr[sp], arr[high] = arr[high], arr[sp]\n",
    "    return sp\n",
    "\n",
    "def q_sort(arr, lo, hi):\n",
    "    if lo < hi:\n",
    "        pivot_index = q_part(arr, lo, hi)\n",
    "        q_sort(arr, lo, pivot_index - 1)\n",
    "        q_sort(arr, pivot_index + 1, hi)\n",
    "        \n",
    "print(f'Unsorted: {array}')\n",
    "q_sort(array, 0, 19)\n",
    "print(f'Quicksort-Sorted: {array}')\n",
    "\n",
    "example_array = [2, 17, 5, 3, 9, 4, 11, 13, 5] \n",
    "n = len(example_array) \n",
    "print(f'Unsorted: {example_array}')\n",
    "q_sort(example_array, 0, n-1)\n",
    "print (f'Quicksort-Sorted: {example_array}') "
   ]
  },
  {
   "cell_type": "markdown",
   "metadata": {},
   "source": [
    "### Pivot - First Position"
   ]
  },
  {
   "cell_type": "code",
   "execution_count": 2,
   "metadata": {},
   "outputs": [
    {
     "name": "stdout",
     "output_type": "stream",
     "text": [
      "0,8:\n",
      "0,-1:\n",
      "0,-1 ---0--- 1,8\n",
      "1,8:\n",
      "1,7:\n",
      "1,2:\n",
      "1,0:\n",
      "1,0 ---1--- 2,2\n",
      "2,2:\n",
      "1,2 ---3--- 4,7\n",
      "4,7:\n",
      "4,4:\n",
      "4,4 ---5--- 6,7\n",
      "6,7:\n",
      "6,5:\n",
      "6,5 ---6--- 7,7\n",
      "7,7:\n",
      "1,7 ---8--- 9,8\n",
      "9,8:\n",
      "Quicksort-Sorted: [2, 3, 4, 5, 5, 9, 11, 13, 17]\n"
     ]
    }
   ],
   "source": [
    "def first_position(low, high):\n",
    "    return low\n",
    "\n",
    "def middle_position(low, high):\n",
    "    return (low + high) // 2\n",
    "\n",
    "def q_part_annotated(arr, low, high, pivot_pos_function, show_steps = False):\n",
    "    pivot_index = pivot_pos_function(low,high)\n",
    "    pivot_value = arr[pivot_index]\n",
    "    # Move pivot out of place\n",
    "    arr[high], arr[pivot_index] = arr[pivot_index], arr[high]\n",
    "    sp = low\n",
    "    for su in range(low, high):\n",
    "        if arr[su] < pivot_value:\n",
    "            arr[sp], arr[su] = arr[su], arr[sp]\n",
    "            sp=sp+1\n",
    "    arr[sp], arr[high] = arr[high], arr[sp]\n",
    "    return sp\n",
    "\n",
    "def q_sort_annotated(arr, lo, hi, pivot_pos_function = middle_position, show_steps = False):\n",
    "    if show_steps:\n",
    "        print(f'{lo},{hi}:')\n",
    "    if lo < hi:\n",
    "        pivot_index = q_part_annotated(arr, lo, hi, pivot_pos_function, show_steps)\n",
    "        q_sort_annotated(arr, lo, pivot_index - 1, pivot_pos_function, show_steps)\n",
    "        if show_steps:\n",
    "            print(f'{lo},{pivot_index - 1} ---{pivot_index}--- {pivot_index + 1},{hi}')\n",
    "        q_sort_annotated(arr, pivot_index + 1, hi, pivot_pos_function, show_steps)\n",
    "\n",
    "example_array = [2, 17, 5, 3, 9, 4, 11, 13, 5] \n",
    "n = len(example_array) \n",
    "q_sort_annotated(example_array, 0, n-1, first_position, True) \n",
    "print (f'Quicksort-Sorted: {example_array}') \n",
    "        "
   ]
  },
  {
   "cell_type": "markdown",
   "metadata": {},
   "source": [
    "### Pivot - Middle Position"
   ]
  },
  {
   "cell_type": "code",
   "execution_count": 7,
   "metadata": {},
   "outputs": [
    {
     "name": "stdout",
     "output_type": "stream",
     "text": [
      "0,8:\n",
      "0,4:\n",
      "0,0:\n",
      "0,0 ---1--- 2,4\n",
      "2,4:\n",
      "2,2:\n",
      "2,2 ---3--- 4,4\n",
      "4,4:\n",
      "0,4 ---5--- 6,8\n",
      "6,8:\n",
      "6,6:\n",
      "6,6 ---7--- 8,8\n",
      "8,8:\n",
      "Quicksort-Sorted: [2, 3, 4, 5, 5, 9, 11, 13, 17]\n"
     ]
    }
   ],
   "source": [
    "example_array = [2, 17, 5, 3, 9, 4, 11, 13, 5] \n",
    "n = len(example_array) \n",
    "q_sort_annotated(example_array, 0, n-1, middle_position, True) \n",
    "print (f'Quicksort-Sorted: {example_array}') "
   ]
  },
  {
   "cell_type": "markdown",
   "metadata": {},
   "source": [
    "## Visualize Quicksort"
   ]
  },
  {
   "cell_type": "code",
   "execution_count": 2,
   "metadata": {},
   "outputs": [
    {
     "data": {
      "text/plain": [
       "array([ 2,  6,  1, 16,  8, 10,  4,  0, 14,  3, 15,  9, 17, 12, 11,  7, 18,\n",
       "        5, 13, 19])"
      ]
     },
     "execution_count": 2,
     "metadata": {},
     "output_type": "execute_result"
    }
   ],
   "source": [
    "length = 20\n",
    "array = np.random.permutation(length)\n",
    "array"
   ]
  }
 ],
 "metadata": {
  "kernelspec": {
   "display_name": "Python 3",
   "language": "python",
   "name": "python3"
  },
  "language_info": {
   "codemirror_mode": {
    "name": "ipython",
    "version": 3
   },
   "file_extension": ".py",
   "mimetype": "text/x-python",
   "name": "python",
   "nbconvert_exporter": "python",
   "pygments_lexer": "ipython3",
   "version": "3.7.3"
  }
 },
 "nbformat": 4,
 "nbformat_minor": 2
}
