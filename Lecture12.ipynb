{
 "cells": [
  {
   "cell_type": "markdown",
   "metadata": {},
   "source": [
    "# Lecture 12 - Quicksort"
   ]
  },
  {
   "cell_type": "code",
   "execution_count": null,
   "metadata": {},
   "outputs": [],
   "source": [
    "import numpy as np\n",
    "\n",
    "length = 20\n",
    "array = np.random.randint(100, size=length)\n",
    "\n",
    "def q_part(arr, low, high):\n",
    "    pivot_index = (low + high) // 2\n",
    "    pivot_value = arr[pivot_index]\n",
    "    # Move pivot out of place\n",
    "    arr[high], arr[pivot_index] = arr[pivot_index], arr[high]\n",
    "    sp = low\n",
    "    for su in range(low, high):\n",
    "        if arr[su] < pivot_value:\n",
    "            arr[sp], arr[su] = arr[su], arr[sp]\n",
    "            sp=sp+1\n",
    "    arr[sp], arr[high] = arr[high], arr[sp]\n",
    "    return sp\n",
    "\n",
    "def q_sort(arr, lo, hi):\n",
    "    if lo < hi:\n",
    "        pivot_index = q_part(arr, lo, hi)\n",
    "        q_sort(arr, lo, pivot_index - 1)\n",
    "        q_sort(arr, pivot_index + 1, hi)\n",
    "        \n",
    "print(f'Unsorted: {array}')\n",
    "q_sort(array, 0, 19)\n",
    "print(f'Quicksort-Sorted: {array}')\n",
    "\n",
    "example_array = [2, 17, 5, 3, 9, 4, 11, 13, 5] \n",
    "n = len(example_array) \n",
    "print(f'Unsorted: {example_array}')\n",
    "q_sort(example_array, 0, n-1)\n",
    "print (f'Quicksort-Sorted: {example_array}') "
   ]
  },
  {
   "cell_type": "markdown",
   "metadata": {},
   "source": [
    "### Pivot - First Position"
   ]
  },
  {
   "cell_type": "code",
   "execution_count": null,
   "metadata": {},
   "outputs": [],
   "source": [
    "def first_position(low, high):\n",
    "    return low\n",
    "\n",
    "def middle_position(low, high):\n",
    "    return (low + high) // 2\n",
    "\n",
    "def q_part_annotated(arr, low, high, pivot_pos_function, show_steps = False):\n",
    "    pivot_index = pivot_pos_function(low,high)\n",
    "    pivot_value = arr[pivot_index]\n",
    "    # Move pivot out of place\n",
    "    arr[high], arr[pivot_index] = arr[pivot_index], arr[high]\n",
    "    sp = low\n",
    "    for su in range(low, high):\n",
    "        if arr[su] < pivot_value:\n",
    "            arr[sp], arr[su] = arr[su], arr[sp]\n",
    "            sp=sp+1\n",
    "    arr[sp], arr[high] = arr[high], arr[sp]\n",
    "    return sp\n",
    "\n",
    "def q_sort_annotated(arr, lo, hi, pivot_pos_function = middle_position, show_steps = False):\n",
    "    if show_steps:\n",
    "        print(f'{lo},{hi}:')\n",
    "    if lo < hi:\n",
    "        pivot_index = q_part_annotated(arr, lo, hi, pivot_pos_function, show_steps)\n",
    "        q_sort_annotated(arr, lo, pivot_index - 1, pivot_pos_function, show_steps)\n",
    "        if show_steps:\n",
    "            print(f'{lo},{pivot_index - 1} ---{pivot_index}--- {pivot_index + 1},{hi}')\n",
    "        q_sort_annotated(arr, pivot_index + 1, hi, pivot_pos_function, show_steps)\n",
    "\n",
    "example_array = [2, 17, 5, 3, 9, 4, 11, 13, 5] \n",
    "n = len(example_array) \n",
    "q_sort_annotated(example_array, 0, n-1, first_position, True) \n",
    "print (f'Quicksort-Sorted: {example_array}') \n",
    "        "
   ]
  },
  {
   "cell_type": "markdown",
   "metadata": {},
   "source": [
    "### Pivot - Middle Position"
   ]
  },
  {
   "cell_type": "code",
   "execution_count": null,
   "metadata": {},
   "outputs": [],
   "source": [
    "example_array = [2, 17, 5, 3, 9, 4, 11, 13, 5] \n",
    "n = len(example_array) \n",
    "q_sort_annotated(example_array, 0, n-1, middle_position, True) \n",
    "print (f'Quicksort-Sorted: {example_array}') "
   ]
  },
  {
   "cell_type": "markdown",
   "metadata": {},
   "source": [
    "## Visualize Quicksort"
   ]
  },
  {
   "cell_type": "code",
   "execution_count": null,
   "metadata": {},
   "outputs": [],
   "source": [
    "length = 20\n",
    "array = np.random.permutation(length)\n",
    "array"
   ]
  }
 ],
 "metadata": {
  "kernelspec": {
   "display_name": "Python 3 (ipykernel)",
   "language": "python",
   "name": "python3"
  },
  "language_info": {
   "codemirror_mode": {
    "name": "ipython",
    "version": 3
   },
   "file_extension": ".py",
   "mimetype": "text/x-python",
   "name": "python",
   "nbconvert_exporter": "python",
   "pygments_lexer": "ipython3",
   "version": "3.11.7"
  }
 },
 "nbformat": 4,
 "nbformat_minor": 4
}
