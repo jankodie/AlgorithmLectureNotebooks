{
 "cells": [
  {
   "cell_type": "markdown",
   "metadata": {},
   "source": [
    "# Lecture 6"
   ]
  },
  {
   "cell_type": "markdown",
   "metadata": {},
   "source": [
    "## Dynamics of Complexity Classes"
   ]
  },
  {
   "cell_type": "code",
   "execution_count": 3,
   "metadata": {},
   "outputs": [],
   "source": [
    "import matplotlib.pyplot as plt\n",
    "import numpy as np\n",
    "from ipywidgets import interactive\n",
    "from math import log"
   ]
  },
  {
   "cell_type": "code",
   "execution_count": 4,
   "metadata": {},
   "outputs": [
    {
     "data": {
      "application/vnd.jupyter.widget-view+json": {
       "model_id": "d6d204fbef0147e899f1aca38715997f",
       "version_major": 2,
       "version_minor": 0
      },
      "text/plain": [
       "interactive(children=(IntSlider(value=405, description='xmax', max=1000, min=5, step=100), IntSlider(value=999…"
      ]
     },
     "metadata": {},
     "output_type": "display_data"
    }
   ],
   "source": [
    "from ipywidgets import interactive\n",
    "from math import log\n",
    "\n",
    "def f(xmax, ymax):\n",
    "    plt.figure(2)\n",
    "    x = np.linspace(0.1, xmax, num=1000)\n",
    "    plt.plot(x, np.sign(x), color = 'violet')\n",
    "    plt.plot(x, np.log(x), color = 'green')\n",
    "    plt.plot(x, x, color = 'blue')\n",
    "    plt.plot(x, x * np.log(x), color = 'brown')\n",
    "    plt.plot(x, x**2, color = 'yellow')\n",
    "    plt.plot(x, x**3, color = 'blue')\n",
    "    plt.plot(x, 2**x, color = 'red')\n",
    "    plt.ylim(0, ymax)\n",
    "    plt.show()\n",
    "\n",
    "interactive_plot = interactive(f, xmax=(5, 1000, 100), ymax=(5, 2000000, 100))\n",
    "output = interactive_plot.children[-1]\n",
    "output.layout.height = '500px'\n",
    "output.layout.width = '1500px'\n",
    "interactive_plot"
   ]
  },
  {
   "cell_type": "code",
   "execution_count": 6,
   "metadata": {},
   "outputs": [
    {
     "data": {
      "application/vnd.jupyter.widget-view+json": {
       "model_id": "5aa95915e50a4b6aba62c9524a7f2937",
       "version_major": 2,
       "version_minor": 0
      },
      "text/plain": [
       "interactive(children=(FloatLogSlider(value=10.0, description='max x', max=3.0, step=0.2), FloatLogSlider(value…"
      ]
     },
     "metadata": {},
     "output_type": "display_data"
    }
   ],
   "source": [
    "import ipywidgets as widgets\n",
    "@widgets.interact_manual(\n",
    "    #xmax=(5, 1000, 100), \n",
    "    xmax = widgets.FloatLogSlider(\n",
    "        value=10,\n",
    "        base=10,\n",
    "        min=0, # max exponent of base\n",
    "        max=3, # min exponent of base\n",
    "        step=0.2, # exponent step\n",
    "        description='max x'\n",
    "    ),\n",
    "    #ymax=(5, 2000000, 100)\n",
    "    ymax = widgets.FloatLogSlider(\n",
    "        value=10,\n",
    "        base=10,\n",
    "        min=-1, # max exponent of base\n",
    "        max=8, # min exponent of base\n",
    "        step=0.2, # exponent step\n",
    "        description='max y'\n",
    "    ))\n",
    "def f(xmax, ymax, grid=True):\n",
    "    plt.figure(2)\n",
    "    x = np.linspace(0.1, xmax, num=1000)\n",
    "    plt.plot(x, np.sign(x), color = 'violet')\n",
    "    plt.plot(x, np.log(x), color = 'green')\n",
    "    plt.plot(x, x, color = 'blue')\n",
    "    plt.plot(x, x * np.log(x), color = 'brown')\n",
    "    plt.plot(x, x**2, color = 'yellow')\n",
    "    plt.plot(x, x**3, color = 'blue')\n",
    "    plt.plot(x, 2**x, color = 'red')\n",
    "    plt.ylim(0, ymax)\n",
    "    plt.grid(grid)\n",
    "    plt.show()"
   ]
  },
  {
   "cell_type": "markdown",
   "metadata": {},
   "source": [
    "## Fibonacci"
   ]
  },
  {
   "cell_type": "markdown",
   "metadata": {},
   "source": [
    "### Naiv recursiv:"
   ]
  },
  {
   "cell_type": "code",
   "execution_count": 10,
   "metadata": {},
   "outputs": [
    {
     "name": "stdout",
     "output_type": "stream",
     "text": [
      "Fib(1): 1\n",
      "Fib(2): 1\n",
      "Fib(3): 2\n",
      "Fib(4): 3\n",
      "Fib(5): 5\n",
      "Fib(6): 8\n",
      "Fib(7): 13\n",
      "Fib(8): 21\n",
      "Fib(9): 34\n",
      "Fib(10): 55\n",
      "Fib(11): 89\n",
      "Fib(12): 144\n",
      "Fib(13): 233\n",
      "Fib(14): 377\n"
     ]
    }
   ],
   "source": [
    "def fibr(n):\n",
    "    if n == 1:\n",
    "      return 1\n",
    "    if n == 2:\n",
    "      return 1\n",
    "    return fibr(n-1) + fibr(n-2)\n",
    "   \n",
    "for x in range(1,15):\n",
    "  print(f'Fib({x}): {fibr(x)}')"
   ]
  },
  {
   "cell_type": "markdown",
   "metadata": {},
   "source": [
    "# Simple Iterative:"
   ]
  },
  {
   "cell_type": "code",
   "execution_count": 11,
   "metadata": {},
   "outputs": [
    {
     "name": "stdout",
     "output_type": "stream",
     "text": [
      "Fib(1): 1\n",
      "Fib(2): 1\n",
      "Fib(3): 2\n",
      "Fib(4): 3\n",
      "Fib(5): 5\n",
      "Fib(6): 8\n",
      "Fib(7): 13\n",
      "Fib(8): 21\n",
      "Fib(9): 34\n",
      "Fib(10): 55\n",
      "Fib(11): 89\n",
      "Fib(12): 144\n",
      "Fib(13): 233\n",
      "Fib(14): 377\n"
     ]
    }
   ],
   "source": [
    "def fibi(n):\n",
    "    if n > 2:\n",
    "     a = 1\n",
    "     b = 1\n",
    "     for i in range(2,n):\n",
    "        tmp = a\n",
    "        a = b\n",
    "        b = a + tmp\n",
    "     return b\n",
    "    else:\n",
    "      return 1\n",
    "\n",
    "for x in range(1,15):\n",
    "  print(f'Fib({x}): {fibi(x)}')\n"
   ]
  },
  {
   "cell_type": "markdown",
   "metadata": {},
   "source": [
    "# More Advanced Iterative:"
   ]
  },
  {
   "cell_type": "code",
   "execution_count": 12,
   "metadata": {},
   "outputs": [
    {
     "name": "stdout",
     "output_type": "stream",
     "text": [
      "Fib(1): 1\n",
      "Fib(2): 1\n",
      "Fib(3): 2\n",
      "Fib(4): 3\n",
      "Fib(5): 5\n",
      "Fib(6): 8\n",
      "Fib(7): 13\n",
      "Fib(8): 21\n",
      "Fib(9): 34\n",
      "Fib(10): 55\n",
      "Fib(11): 89\n",
      "Fib(12): 144\n",
      "Fib(13): 233\n",
      "Fib(14): 377\n"
     ]
    }
   ],
   "source": [
    "def fibi2(n):\n",
    "    f = [1,1,1]\n",
    "    if n > 2:\n",
    "     for i in range(3,n+1):\n",
    "        f[i%3] = f[(i-1)%3] + f[(i-2)%3]\n",
    "    return f[n%3]\n",
    "\n",
    "for x in range(1,15):\n",
    "  print(f'Fib({x}): {fibi2(x)}')"
   ]
  }
 ],
 "metadata": {
  "kernelspec": {
   "display_name": "Python 3",
   "language": "python",
   "name": "python3"
  },
  "language_info": {
   "codemirror_mode": {
    "name": "ipython",
    "version": 3
   },
   "file_extension": ".py",
   "mimetype": "text/x-python",
   "name": "python",
   "nbconvert_exporter": "python",
   "pygments_lexer": "ipython3",
   "version": "3.7.3"
  }
 },
 "nbformat": 4,
 "nbformat_minor": 2
}
