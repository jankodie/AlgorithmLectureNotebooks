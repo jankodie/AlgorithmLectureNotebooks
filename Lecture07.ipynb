{
 "cells": [
  {
   "cell_type": "markdown",
   "metadata": {},
   "source": [
    "# Lecture 7 & 8"
   ]
  },
  {
   "cell_type": "markdown",
   "metadata": {},
   "source": [
    "## Fibonacci dynamic"
   ]
  },
  {
   "cell_type": "code",
   "execution_count": 2,
   "metadata": {},
   "outputs": [
    {
     "name": "stdout",
     "output_type": "stream",
     "text": [
      "Fib(1): 1\n",
      "Fib(2): 1\n",
      "Fib(3): 2\n",
      "Fib(4): 3\n",
      "Fib(5): 5\n",
      "Fib(6): 8\n",
      "Fib(7): 13\n",
      "Fib(8): 21\n",
      "Fib(9): 34\n",
      "Fib(10): 55\n",
      "Fib(11): 89\n",
      "Fib(12): 144\n",
      "Fib(13): 233\n",
      "Fib(14): 377\n",
      "Fib(15): 610\n",
      "Fib(16): 987\n",
      "Fib(17): 1597\n",
      "Fib(18): 2584\n",
      "Fib(19): 4181\n"
     ]
    }
   ],
   "source": [
    "from functools import lru_cache\n",
    "\n",
    "@lru_cache(maxsize=512)\n",
    "def fibr(n):\n",
    "    if n == 1:\n",
    "      return 1\n",
    "    if n == 2:\n",
    "      return 1\n",
    "    return fibr(n-1) + fibr(n-2)\n",
    "   \n",
    "for x in range(1,20):\n",
    "  print(f'Fib({x}): {fibr(x)}')"
   ]
  },
  {
   "cell_type": "markdown",
   "metadata": {},
   "source": [
    "## How many Steps to 1?"
   ]
  },
  {
   "cell_type": "code",
   "execution_count": 4,
   "metadata": {},
   "outputs": [
    {
     "name": "stdout",
     "output_type": "stream",
     "text": [
      "Steps(1): 0\n",
      "Steps(2): 1\n",
      "Steps(3): 1\n",
      "Steps(4): 2\n",
      "Steps(5): 3\n",
      "Steps(6): 2\n",
      "Steps(7): 3\n",
      "Steps(8): 3\n",
      "Steps(9): 2\n",
      "Steps(10): 3\n",
      "Steps(11): 4\n",
      "Steps(12): 3\n",
      "Steps(13): 4\n",
      "Steps(14): 4\n",
      "Steps(15): 4\n",
      "Steps(16): 4\n",
      "Steps(17): 5\n",
      "Steps(18): 3\n",
      "Steps(19): 4\n",
      "Steps(20): 4\n"
     ]
    }
   ],
   "source": [
    "import numpy as np\n",
    "\n",
    "@lru_cache(maxsize=512)\n",
    "def steps(n):\n",
    "    count = [2000,2000,2000]\n",
    "    if n > 1:\n",
    "        count[0] = steps(n-1) + 1\n",
    "    else:\n",
    "        return 0\n",
    "    if n%2 == 0:\n",
    "        count[1] = steps(n//2) + 1\n",
    "    if n%3 == 0:\n",
    "        count[2] = steps(n//3) + 1\n",
    "    return np.amin(count)\n",
    "\n",
    "for n in range(1,21):\n",
    "  print(f'Steps({n}): {steps(n)}')"
   ]
  },
  {
   "cell_type": "markdown",
   "metadata": {},
   "source": [
    "## Ackermann Function"
   ]
  },
  {
   "cell_type": "code",
   "execution_count": 3,
   "metadata": {},
   "outputs": [
    {
     "name": "stdout",
     "output_type": "stream",
     "text": [
      "Ackermann(0,0): 1\n",
      "Ackermann(0,1): 2\n",
      "Ackermann(0,2): 3\n",
      "Ackermann(0,3): 4\n",
      "Ackermann(0,4): 5\n",
      "Ackermann(0,5): 6\n",
      "Ackermann(0,6): 7\n",
      "Ackermann(0,7): 8\n",
      "Ackermann(0,8): 9\n",
      "Ackermann(0,9): 10\n",
      "Ackermann(1,0): 2\n",
      "Ackermann(1,1): 3\n",
      "Ackermann(1,2): 4\n",
      "Ackermann(1,3): 5\n",
      "Ackermann(1,4): 6\n",
      "Ackermann(1,5): 7\n",
      "Ackermann(1,6): 8\n",
      "Ackermann(1,7): 9\n",
      "Ackermann(1,8): 10\n",
      "Ackermann(1,9): 11\n",
      "Ackermann(2,0): 3\n",
      "Ackermann(2,1): 5\n",
      "Ackermann(2,2): 7\n",
      "Ackermann(2,3): 9\n",
      "Ackermann(2,4): 11\n",
      "Ackermann(2,5): 13\n",
      "Ackermann(2,6): 15\n",
      "Ackermann(2,7): 17\n",
      "Ackermann(2,8): 19\n",
      "Ackermann(2,9): 21\n",
      "Ackermann(3,0): 5\n",
      "Ackermann(3,1): 13\n",
      "Ackermann(3,2): 29\n",
      "Ackermann(3,3): 61\n",
      "Ackermann(3,4): 125\n",
      "Ackermann(3,5): 253\n",
      "Ackermann(3,6): 509\n",
      "Ackermann(3,7): 1021\n",
      "Ackermann(3,8): 2045\n",
      "Ackermann(3,9): 4093\n"
     ]
    }
   ],
   "source": [
    "@lru_cache(maxsize=2048)\n",
    "def a(n,m):\n",
    "    if n == 0:\n",
    "        return m + 1\n",
    "    if m == 0:\n",
    "        return a(n-1,1)\n",
    "    else:\n",
    "        return a(n-1,a(n,m-1))\n",
    "    \n",
    "for n in range(0,4):\n",
    "    for m in range(0,10):\n",
    "      print(f'Ackermann({n},{m}): {a(n,m)}')"
   ]
  },
  {
   "cell_type": "markdown",
   "metadata": {},
   "source": [
    "## Binary Search in an Array"
   ]
  },
  {
   "cell_type": "code",
   "execution_count": 25,
   "metadata": {},
   "outputs": [
    {
     "name": "stdout",
     "output_type": "stream",
     "text": [
      "Array: [ 3 12 23 25 26 28 29 29 31 38 40 43 72 77 80 83 85 93 98 99]\n",
      "Search for value @ 9 -> 38: 9 \n",
      "Search for value @ 0 -> 3: 0 \n",
      "Search for value @ 19 -> 99: 19 \n",
      "Search for value @ 7 -> 29: 7 \n",
      "Search for not existing value -> 333: -1 \n"
     ]
    }
   ],
   "source": [
    "length = 20\n",
    "d = np.sort(np.random.randint(1,100,size=length))\n",
    "\n",
    "print(f'Array: {d}')\n",
    "\n",
    "def find(key, start, end, array):\n",
    "    if start > end:\n",
    "        return -1\n",
    "    m = (start + end) // 2\n",
    "    if key < array[m]:\n",
    "        return find(key, start, m, array)\n",
    "    if array[m] < key:\n",
    "        return find(key, m + 1, end, array)\n",
    "    else:\n",
    "        return m\n",
    "\n",
    "print(f'Search for value @ {length//2-1} -> {d[length//2-1]}: {find(d[length//2-1], 0, length-1, d)} ')\n",
    "print(f'Search for value @ {0} -> {d[0]}: {find(d[0], 0, length-1, d)} ')\n",
    "print(f'Search for value @ {length-1} -> {d[length-1]}: {find(d[length-1], 0, length-1, d)} ')\n",
    "rand_pos = np.random.randint(0,length)\n",
    "print(f'Search for value @ {rand_pos} -> {d[rand_pos]}: {find(d[rand_pos], 0, length-1, d)} ')\n",
    "print(f'Search for not existing value -> 333: {find(333, 0, length-1, d)} ')\n"
   ]
  }
 ],
 "metadata": {
  "kernelspec": {
   "display_name": "Python 3",
   "language": "python",
   "name": "python3"
  },
  "language_info": {
   "codemirror_mode": {
    "name": "ipython",
    "version": 3
   },
   "file_extension": ".py",
   "mimetype": "text/x-python",
   "name": "python",
   "nbconvert_exporter": "python",
   "pygments_lexer": "ipython3",
   "version": "3.7.3"
  }
 },
 "nbformat": 4,
 "nbformat_minor": 2
}
