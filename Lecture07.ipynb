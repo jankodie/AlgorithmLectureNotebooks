{
 "cells": [
  {
   "cell_type": "code",
   "execution_count": null,
   "metadata": {},
   "outputs": [],
   "source": [
    "from functools import lru_cache\n",
    "import numpy as np"
   ]
  },
  {
   "cell_type": "markdown",
   "metadata": {},
   "source": [
    "# Lecture 7 & 8"
   ]
  },
  {
   "cell_type": "markdown",
   "metadata": {},
   "source": [
    "### Naiv recursiv:"
   ]
  },
  {
   "cell_type": "code",
   "execution_count": null,
   "metadata": {},
   "outputs": [],
   "source": [
    "def fibr1(n):\n",
    "    if n == 1:\n",
    "      return 1\n",
    "    if n == 2:\n",
    "      return 1\n",
    "    return fibr1(n-1) + fibr1(n-2)\n",
    "   \n",
    "for x in range(1,15):\n",
    "  print(f'Fib({x}): {fibr1(x)}')"
   ]
  },
  {
   "cell_type": "code",
   "execution_count": null,
   "metadata": {},
   "outputs": [],
   "source": [
    "%%timeit\n",
    "fibr1(40)"
   ]
  },
  {
   "cell_type": "code",
   "execution_count": null,
   "metadata": {},
   "outputs": [],
   "source": [
    "fibr1(40)"
   ]
  },
  {
   "cell_type": "markdown",
   "metadata": {},
   "source": [
    "## Fibonacci dynamic"
   ]
  },
  {
   "cell_type": "code",
   "execution_count": null,
   "metadata": {},
   "outputs": [],
   "source": [
    "@lru_cache(maxsize=1024)\n",
    "def fibr(n):\n",
    "    if n == 1:\n",
    "      return 1\n",
    "    if n == 2:\n",
    "      return 1\n",
    "    return fibr(n-1) + fibr(n-2)\n",
    "   \n",
    "for x in range(1,20):\n",
    "  print(f'Fib({x}): {fibr(x)}')"
   ]
  },
  {
   "cell_type": "code",
   "execution_count": null,
   "metadata": {},
   "outputs": [],
   "source": [
    "%%timeit\n",
    "fibr(40)"
   ]
  },
  {
   "cell_type": "code",
   "execution_count": null,
   "metadata": {},
   "outputs": [],
   "source": [
    "fibr(1000)"
   ]
  },
  {
   "cell_type": "markdown",
   "metadata": {},
   "source": [
    "### Closed Solution for Fibonacci\n",
    "\n",
    "$$ fib(n) = \\frac{\\sqrt{5}}{5} \\left(\\frac{1 + \\sqrt{5}}{2}\\right)^n - \\frac{\\sqrt{5}}{5} \\left(\\frac{1 - \\sqrt{5}}{2}\\right)^n$$"
   ]
  },
  {
   "cell_type": "code",
   "execution_count": null,
   "metadata": {
    "slideshow": {
     "slide_type": "slide"
    }
   },
   "outputs": [],
   "source": [
    "def fib_sol(n):\n",
    "    sqrt_5 = np.sqrt(5) \n",
    "    y = (sqrt_5/5.0) * np.power((1 + sqrt_5)/2.0,n) - (sqrt_5/5.0) * np.power((1 - sqrt_5)/2.0,n)\n",
    "    return y\n",
    "    \n",
    "[fib_sol(n) for n in range(1,11)]"
   ]
  },
  {
   "cell_type": "code",
   "execution_count": null,
   "metadata": {},
   "outputs": [],
   "source": [
    "fib_sol(1000)"
   ]
  },
  {
   "cell_type": "markdown",
   "metadata": {},
   "source": [
    "Very interesting talk about the importance and meaning of the number 5 and Fibonacci numbers, given by Ingo Blechschmidt at the Tübix 2016 (in German):\n",
    "\n",
    "[Das Geheimnis der Zahl 5](https://tuebix.github.io/tuebix-downloads-2016/tuebix-2016-ingo-blechschmidt-das-geheimnis-der-zahl-5.pdf)"
   ]
  },
  {
   "cell_type": "markdown",
   "metadata": {},
   "source": [
    "## How many Steps to 1?"
   ]
  },
  {
   "cell_type": "code",
   "execution_count": null,
   "metadata": {},
   "outputs": [],
   "source": [
    "import numpy as np\n",
    "\n",
    "@lru_cache(maxsize=1024)\n",
    "def steps(n):\n",
    "    count = [2000,2000,2000]\n",
    "    if n > 1:\n",
    "        count[0] = steps(n-1) + 1\n",
    "    else:\n",
    "        return 0\n",
    "    if n%2 == 0:\n",
    "        count[1] = steps(n//2) + 1\n",
    "    if n%3 == 0:\n",
    "        count[2] = steps(n//3) + 1\n",
    "    return np.amin(count)\n",
    "\n",
    "for n in range(1,21):\n",
    "  print(f'Steps({n}): {steps(n)}')"
   ]
  },
  {
   "cell_type": "markdown",
   "metadata": {},
   "source": [
    "## Ackermann Function"
   ]
  },
  {
   "cell_type": "code",
   "execution_count": null,
   "metadata": {},
   "outputs": [],
   "source": [
    "@lru_cache(maxsize=2048)\n",
    "def a(n,m):\n",
    "    if n == 0:\n",
    "        return m + 1\n",
    "    if m == 0:\n",
    "        return a(n-1,1)\n",
    "    else:\n",
    "        return a(n-1,a(n,m-1))\n",
    "    \n",
    "for n in range(0,4):\n",
    "    for m in range(0,10):\n",
    "      print(f'Ackermann({n},{m}): {a(n,m)}')"
   ]
  },
  {
   "cell_type": "markdown",
   "metadata": {},
   "source": [
    "## Binary Search in an Array"
   ]
  },
  {
   "cell_type": "code",
   "execution_count": null,
   "metadata": {},
   "outputs": [],
   "source": [
    "length = 20\n",
    "d = np.sort(np.random.randint(2,100,size=length))\n",
    "\n",
    "print(f'Array: {d}')\n",
    "\n",
    "def find(key, start, end, array):\n",
    "    if start > end or end == 0:\n",
    "        return -1\n",
    "    m = (start + end) // 2\n",
    "    if key < array[m]:\n",
    "        return find(key, start, m, array)\n",
    "    if array[m] < key:\n",
    "        return find(key, m + 1, end, array)\n",
    "    else:\n",
    "        return m\n",
    "\n",
    "print(f'Search for value @ {length//2-1} -> {d[length//2-1]}: {find(d[length//2-1], 0, length-1, d)} ')\n",
    "print(f'Search for value @ {0} -> {d[0]}: {find(d[0], 0, length-1, d)} ')\n",
    "print(f'Search for value @ {length-1} -> {d[length-1]}: {find(d[length-1], 0, length-1, d)} ')\n",
    "rand_pos = np.random.randint(0,length)\n",
    "print(f'Search for value @ {rand_pos} -> {d[rand_pos]}: {find(d[rand_pos], 0, length-1, d)} ')\n",
    "print(f'Search for not existing value -> 333: {find(333, 0, length-1, d)} ')\n",
    "print(f'Search for not existing value -> 1: {find(1, 0, length-1, d)} ')"
   ]
  }
 ],
 "metadata": {
  "kernelspec": {
   "display_name": "Python 3",
   "language": "python",
   "name": "python3"
  },
  "language_info": {
   "codemirror_mode": {
    "name": "ipython",
    "version": 3
   },
   "file_extension": ".py",
   "mimetype": "text/x-python",
   "name": "python",
   "nbconvert_exporter": "python",
   "pygments_lexer": "ipython3",
   "version": "3.8.10"
  }
 },
 "nbformat": 4,
 "nbformat_minor": 2
}
