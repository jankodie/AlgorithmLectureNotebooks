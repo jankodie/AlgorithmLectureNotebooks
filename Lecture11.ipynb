{
 "cells": [
  {
   "cell_type": "markdown",
   "metadata": {},
   "source": [
    "# Lecture 11 - Sorting"
   ]
  },
  {
   "cell_type": "markdown",
   "metadata": {},
   "source": [
    "## Lexicographic Sorting"
   ]
  },
  {
   "cell_type": "code",
   "execution_count": 1,
   "metadata": {},
   "outputs": [
    {
     "name": "stdout",
     "output_type": "stream",
     "text": [
      "b vs b\n",
      "l vs l\n",
      "a vs u\n",
      "BlaBla vs. BlubberBlu: 0\n",
      "b vs b\n",
      "l vs l\n",
      "u vs a\n",
      "BlubberBlu vs. BlaBla: 1\n",
      "a vs z\n",
      "A vs. Z: 0\n",
      "z vs a\n",
      "Z vs. A: 1\n",
      "b vs b\n",
      "l vs l\n",
      "a vs a\n",
      "bla vs. blabla: 0\n",
      "b vs b\n",
      "l vs l\n",
      "a vs a\n",
      "blabla vs. bla: 1\n"
     ]
    }
   ],
   "source": [
    "def lexgreater(left, right):\n",
    "    lstr = left.lower()\n",
    "    rstr = right.lower()\n",
    "    k = min(len(lstr), len(rstr))\n",
    "    for i in range(0,k):\n",
    "            print(f'{lstr[i]} vs {rstr[i]}')\n",
    "            if ord(lstr[i]) > ord(rstr[i]):\n",
    "                return 1\n",
    "            elif ord(lstr[i]) < ord(rstr[i]):\n",
    "                return 0\n",
    "    return 1 if len(left) > len(right) else 0\n",
    "\n",
    "print(f'BlaBla vs. BlubberBlu: {lexgreater(\"BlaBla\",\"BlubberBlu\")}')\n",
    "print(f'BlubberBlu vs. BlaBla: {lexgreater(\"BlubberBlu\",\"BlaBla\")}')\n",
    "print(f'A vs. Z: {lexgreater(\"A\",\"Z\")}')\n",
    "print(f'Z vs. A: {lexgreater(\"Z\",\"A\")}')\n",
    "print(f'bla vs. blabla: {lexgreater(\"bla\",\"blabla\")}')\n",
    "print(f'blabla vs. bla: {lexgreater(\"blabla\",\"bla\")}')"
   ]
  },
  {
   "cell_type": "markdown",
   "metadata": {},
   "source": [
    "## Selection Sort"
   ]
  },
  {
   "cell_type": "code",
   "execution_count": 3,
   "metadata": {},
   "outputs": [
    {
     "name": "stdout",
     "output_type": "stream",
     "text": [
      "Unsorted: [30 62 62 77 45 51 86 15 75 32 72 37 70 90 43  4 50 13 83 34]\n",
      "Selection-Sorted: [ 4 13 15 30 32 34 37 43 45 50 51 62 62 70 72 75 77 83 86 90]\n"
     ]
    }
   ],
   "source": [
    "import numpy as np\n",
    "\n",
    "length = 20\n",
    "array = np.random.randint(100, size=length)\n",
    "\n",
    "def selsort(arr):\n",
    "    arrlen = len(arr)\n",
    "    # i is the position to fill\n",
    "    for i in range(arrlen - 1):\n",
    "        # Find smallest unsorted\n",
    "        min_i = i\n",
    "        for j in range (i + 1, arrlen):\n",
    "            if arr[j] < arr[min_i]:\n",
    "                min_i = j\n",
    "        # Swap to correct position\n",
    "        arr[min_i], arr[i] = arr[i], arr[min_i]\n",
    "    return arr\n",
    "\n",
    "print(f'Unsorted: {array}')\n",
    "print(f'Selection-Sorted: {selsort(array)}')"
   ]
  },
  {
   "cell_type": "markdown",
   "metadata": {},
   "source": [
    "## Insertion Sort"
   ]
  },
  {
   "cell_type": "code",
   "execution_count": 4,
   "metadata": {},
   "outputs": [
    {
     "name": "stdout",
     "output_type": "stream",
     "text": [
      "Unsorted: [32  1 82 86 11 13 61 18 47 17 21  8 39 16 48 59  7 40 47  1]\n",
      "Insertion-Sorted: [ 1  1  7  8 11 13 16 17 18 21 32 39 40 47 47 48 59 61 82 86]\n"
     ]
    }
   ],
   "source": [
    "length = 20\n",
    "array = np.random.randint(100, size=length)\n",
    "\n",
    "def inssort(arr):\n",
    "    arrlen = len(arr)\n",
    "    # Array arr[0] - arr[i-1] is sorted\n",
    "    for i in range(1, arrlen):\n",
    "        # Move # arr[i] into\n",
    "        # the right position\n",
    "        j = i\n",
    "        while j > 0 and arr[j] < arr[j - 1]:\n",
    "            arr[j], arr[j - 1] = arr[j - 1] , arr[ j ]\n",
    "            j = j - 1\n",
    "    return arr\n",
    "\n",
    "print(f'Unsorted: {array}')\n",
    "print(f'Insertion-Sorted: {inssort(array)}')"
   ]
  },
  {
   "cell_type": "markdown",
   "metadata": {},
   "source": [
    "## Bubble Sort"
   ]
  },
  {
   "cell_type": "code",
   "execution_count": 20,
   "metadata": {},
   "outputs": [
    {
     "name": "stdout",
     "output_type": "stream",
     "text": [
      "Unsorted: [15 81 25  5 28 86 24 56 38  7 18 52 43 36 43 75  6 91 56  1]\n",
      "Bubble-Sorted: [ 1  5  6  7 15 18 24 25 28 36 38 43 43 52 56 56 75 81 86 91]\n",
      "Unsorted: [3, 5, 2, 4, 1]\n",
      " i = 5:\n",
      "    [3, 5, 2, 4, 1]\n",
      "    [3, 2, 5, 4, 1]\n",
      "    [3, 2, 4, 5, 1]\n",
      "    [3, 2, 4, 1, 5]\n",
      " i = 4:\n",
      "    [2, 3, 4, 1, 5]\n",
      "    [2, 3, 4, 1, 5]\n",
      "    [2, 3, 1, 4, 5]\n",
      " i = 3:\n",
      "    [2, 3, 1, 4, 5]\n",
      "    [2, 1, 3, 4, 5]\n",
      " i = 2:\n",
      "    [1, 2, 3, 4, 5]\n",
      "Bubble-Sorted: [1, 2, 3, 4, 5]\n"
     ]
    }
   ],
   "source": [
    "length = 20\n",
    "array = np.random.randint(100, size=length)\n",
    "\n",
    "def bubble_sort(arr, show_steps = False):\n",
    "    for i in range(len(arr), 1, -1):\n",
    "        if show_steps:\n",
    "                print(f' i = {i}:')\n",
    "        swapped = False\n",
    "        for j in range(0, i-1):\n",
    "            if arr[j] > arr[j + 1]:\n",
    "                arr[j], arr[j + 1] = arr[j + 1] , arr[ j ]\n",
    "                swapped = True\n",
    "            if show_steps:\n",
    "                print(f'    {arr}')\n",
    "        if not(swapped):\n",
    "            break\n",
    "    return arr\n",
    "\n",
    "print(f'Unsorted: {array}')\n",
    "print(f'Bubble-Sorted: {bubble_sort(array)}')\n",
    "array_example = [3,5,2,4,1]\n",
    "print(f'Unsorted: {array_example}')\n",
    "print(f'Bubble-Sorted: {bubble_sort(array_example, True)}')"
   ]
  },
  {
   "cell_type": "code",
   "execution_count": 21,
   "metadata": {},
   "outputs": [
    {
     "name": "stdout",
     "output_type": "stream",
     "text": [
      "Unsorted: [1, 2, 3, 4, 5]\n",
      " i = 5:\n",
      "    [1, 2, 3, 4, 5]\n",
      "    [1, 2, 3, 4, 5]\n",
      "    [1, 2, 3, 4, 5]\n",
      "    [1, 2, 3, 4, 5]\n",
      "Bubble-Sorted: [1, 2, 3, 4, 5]\n"
     ]
    }
   ],
   "source": [
    "array_sorted = [1,2,3,4,5]\n",
    "print(f'Unsorted: {array_sorted}')\n",
    "print(f'Bubble-Sorted: {bubble_sort(array_sorted, True)}')"
   ]
  },
  {
   "cell_type": "markdown",
   "metadata": {},
   "source": [
    "## (Cocktail) Shaker Sort"
   ]
  },
  {
   "cell_type": "code",
   "execution_count": 5,
   "metadata": {},
   "outputs": [
    {
     "name": "stdout",
     "output_type": "stream",
     "text": [
      "Unsorted: [39 42 50 50 45 53 22 36  9 65 62 44 27 37 15 85  3 71 71 62]\n",
      "Shaker-Sorted: [ 3  9 15 22 27 36 37 39 42 44 45 50 50 53 62 62 65 71 71 85]\n",
      "Unsorted: [3, 5, 2, 4, 1]\n",
      " i = 0:\n",
      "   j = 0: [3, 5, 2, 4, 1]\n",
      "   j = 1: [3, 2, 5, 4, 1]\n",
      "   j = 2: [3, 2, 4, 5, 1]\n",
      "   j = 3: [3, 2, 4, 1, 5]\n",
      "   ------\n",
      "   j = 4: [3, 2, 4, 1, 5]\n",
      "   j = 3: [3, 2, 1, 4, 5]\n",
      "   j = 2: [3, 1, 2, 4, 5]\n",
      "   j = 1: [1, 3, 2, 4, 5]\n",
      " i = 1:\n",
      "   j = 1: [1, 2, 3, 4, 5]\n",
      "   j = 2: [1, 2, 3, 4, 5]\n",
      "   ------\n",
      "   j = 3: [1, 2, 3, 4, 5]\n",
      "   j = 2: [1, 2, 3, 4, 5]\n",
      "Shaker-Sorted: [1, 2, 3, 4, 5]\n"
     ]
    }
   ],
   "source": [
    "length = 20\n",
    "array = np.random.randint(100, size=length)\n",
    "\n",
    "def shaker_sort(arr):\n",
    "    for i in range(0, len(arr)//2):\n",
    "        swapped = False\n",
    "        for j in range(i, len(arr) - i - 1):\n",
    "            if arr[j] > arr[j + 1]:\n",
    "                arr[j], arr[j + 1] = arr[j + 1] , arr[ j ]\n",
    "                swapped = True\n",
    "        for j in range(len(arr) - i - 1, i, -1):\n",
    "            if arr[j - 1] > arr[j]:\n",
    "                arr[j - 1], arr[j] = arr[j] , arr[j - 1]\n",
    "                swapped = True\n",
    "        if not(swapped):\n",
    "            break\n",
    "    return arr\n",
    "\n",
    "\n",
    "def shaker_sort_annotated(arr, show_steps):\n",
    "    for i in range(0, len(arr)//2):\n",
    "        if show_steps:\n",
    "                print(f' i = {i}:')\n",
    "        swapped = False\n",
    "        for j in range(i, len(arr) - i - 1):\n",
    "            if arr[j] > arr[j + 1]:\n",
    "                arr[j], arr[j + 1] = arr[j + 1] , arr[ j ]\n",
    "                swapped = True\n",
    "            if show_steps:\n",
    "                print(f'   j = {j}: {arr}')\n",
    "        if show_steps:\n",
    "                    print(f'   ------')\n",
    "        for j in range(len(arr) - i - 1, i, -1):\n",
    "            if arr[j - 1] > arr[j]:\n",
    "                arr[j - 1], arr[j] = arr[j] , arr[j - 1]\n",
    "                swapped = True\n",
    "            if show_steps:\n",
    "                print(f'   j = {j}: {arr}')\n",
    "        if not(swapped):\n",
    "            break\n",
    "    return arr\n",
    "\n",
    "print(f'Unsorted: {array}')\n",
    "print(f'Shaker-Sorted: {shaker_sort(array)}')\n",
    "array_example = [3,5,2,4,1]\n",
    "print(f'Unsorted: {array_example}')\n",
    "print(f'Shaker-Sorted: {shaker_sort_annotated(array_example, True)}')"
   ]
  }
 ],
 "metadata": {
  "kernelspec": {
   "display_name": "Python 3",
   "language": "python",
   "name": "python3"
  },
  "language_info": {
   "codemirror_mode": {
    "name": "ipython",
    "version": 3
   },
   "file_extension": ".py",
   "mimetype": "text/x-python",
   "name": "python",
   "nbconvert_exporter": "python",
   "pygments_lexer": "ipython3",
   "version": "3.7.3"
  }
 },
 "nbformat": 4,
 "nbformat_minor": 2
}
