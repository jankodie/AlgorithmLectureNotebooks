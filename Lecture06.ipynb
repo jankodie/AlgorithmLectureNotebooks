{
 "cells": [
  {
   "cell_type": "markdown",
   "metadata": {},
   "source": [
    "# Lecture 6"
   ]
  },
  {
   "cell_type": "markdown",
   "metadata": {},
   "source": [
    "## Algorithms for efficient Matrix Multiplication"
   ]
  },
  {
   "cell_type": "markdown",
   "metadata": {},
   "source": [
    "There is a nice and interesting video on YouTube by the _Quanta Magazin_ that illustrates the AI discovery of an efficient matrix multiplication algorithm that can beat the [Strassen-Algorithm](https://en.wikipedia.org/wiki/Strassen_algorithm), that was published in 1969:\n",
    "* [How AI Discovered a Faster Matrix Multiplication Algorithm](https://youtu.be/fDAPJ7rvcUw)\n",
    "\n",
    "... and the next algorithmic achievment of _AlphaEvolve_ in 2025 that further improved the matrix multiplication:\n",
    "\n",
    "* Blog post from _DeepMind's AlphaEvolve Team_ - [AlphaEvolve: A Gemini-powered coding agent for designing advanced algorithms](https://deepmind.google/discover/blog/alphaevolve-a-gemini-powered-coding-agent-for-designing-advanced-algorithms/)\n",
    "* White Paper - [AlphaEvolve: A coding agent for scientific and algorithmic discovery](https://storage.googleapis.com/deepmind-media/DeepMind.com/Blog/alphaevolve-a-gemini-powered-coding-agent-for-designing-advanced-algorithms/AlphaEvolve.pdf)"
   ]
  },
  {
   "cell_type": "markdown",
   "metadata": {},
   "source": [
    "## Dynamics of Complexity Classes"
   ]
  },
  {
   "cell_type": "code",
   "execution_count": null,
   "metadata": {},
   "outputs": [],
   "source": [
    "%matplotlib notebook\n",
    "%matplotlib inline\n",
    "\n",
    "import numpy as np\n",
    "from math import log\n",
    "\n",
    "import matplotlib.pyplot as plt\n",
    "import seaborn as sns\n",
    "\n",
    "from ipywidgets import interactive, interact, IntSlider\n",
    "\n",
    "sns.set()"
   ]
  },
  {
   "cell_type": "markdown",
   "metadata": {},
   "source": [
    "There are two interesting presentation of the roots and development of the logarithm and exponential function: \n",
    "* [How people came up with the natural logarithm and the exponential function](https://youtu.be/3B6FymMv8b4)\n",
    "* [The most useful Curve in Mathematics](https://youtu.be/OjIwCOevUew) - Historical view of arithmetic using logarithm tables and the slide rule "
   ]
  },
  {
   "cell_type": "code",
   "execution_count": null,
   "metadata": {},
   "outputs": [],
   "source": [
    "from ipywidgets import interactive\n",
    "from math import log\n",
    "\n",
    "def f(xmax, ymax,grid):\n",
    "    plt.figure(figsize=(10,5))\n",
    "    x = np.linspace(0.01, xmax, num=1000)\n",
    "    plt.plot(x, np.sign(x), color = 'violet', label=f'Const')\n",
    "    plt.plot(x, np.log(x), color = 'green', label=f'$\\log(n)$')\n",
    "    plt.plot(x, x, color = 'blue', label=f'$n$')\n",
    "    plt.plot(x, x * np.log(x), color = 'brown', label=f'$n \\cdot \\log(n)$')\n",
    "    plt.plot(x, x**2, color = 'yellow', label=f'$n^2$')\n",
    "    plt.plot(x, x**3, color = 'blue', label=f'$n^3$')\n",
    "    plt.plot(x, 2**x, color = 'red', label=f'$2^n$')\n",
    "    plt.grid(grid)\n",
    "    plt.ylim(0, ymax)\n",
    "    plt.legend(loc='best', frameon=False)\n",
    "    plt.show()\n",
    "\n",
    "interact(f, \n",
    "         xmax=IntSlider(min=5, max=1000, value=100, continuous_update=False), \n",
    "         ymax=IntSlider(min=5, max=2000000, value=100, continuous_update=False),\n",
    "         grid=True);"
   ]
  },
  {
   "cell_type": "code",
   "execution_count": null,
   "metadata": {},
   "outputs": [],
   "source": [
    "import ipywidgets as widgets\n",
    "@widgets.interact_manual(\n",
    "    #xmax=(5, 1000, 100), \n",
    "    xmax = widgets.FloatLogSlider(\n",
    "        value=10,\n",
    "        base=10,\n",
    "        min=0, # max exponent of base\n",
    "        max=3, # min exponent of base\n",
    "        step=0.2, # exponent step\n",
    "        description='max x'\n",
    "    ),\n",
    "    #ymax=(5, 2000000, 100)\n",
    "    ymax = widgets.FloatLogSlider(\n",
    "        value=10,\n",
    "        base=10,\n",
    "        min=-1, # max exponent of base\n",
    "        max=8, # min exponent of base\n",
    "        step=0.2, # exponent step\n",
    "        description='max y'\n",
    "    ))\n",
    "def f(xmax, ymax, grid=True):\n",
    "    plt.figure(figsize=(10,5))\n",
    "    x = np.linspace(0.01, xmax, num=1000)\n",
    "    plt.plot(x, np.sign(x), color = 'violet', label=f'Const')\n",
    "    plt.plot(x, np.log(x), color = 'green', label=f'$\\log(n)$')\n",
    "    plt.plot(x, x, color = 'blue', label=f'$n$')\n",
    "    plt.plot(x, x * np.log(x), color = 'brown', label=f'$n \\cdot \\log(n)$')\n",
    "    plt.plot(x, x**2, color = 'yellow', label=f'$n^2$')\n",
    "    plt.plot(x, x**3, color = 'blue', label=f'$n^3$')\n",
    "    plt.plot(x, 2**x, color = 'red', label=f'$2^n$')\n",
    "    plt.ylim(0, ymax)\n",
    "    plt.grid(grid)\n",
    "    plt.legend(loc='best', frameon=False)\n",
    "    plt.show()"
   ]
  },
  {
   "cell_type": "markdown",
   "metadata": {},
   "source": [
    "## Fibonacci"
   ]
  },
  {
   "cell_type": "markdown",
   "metadata": {},
   "source": [
    "### Naiv recursiv:"
   ]
  },
  {
   "cell_type": "code",
   "execution_count": null,
   "metadata": {},
   "outputs": [],
   "source": [
    "def fibr(n):\n",
    "    if n == 1:\n",
    "      return 1\n",
    "    if n == 2:\n",
    "      return 1\n",
    "    return fibr(n-1) + fibr(n-2)\n",
    "   \n",
    "for x in range(1,15):\n",
    "  print(f'Fib({x}): {fibr(x)}')"
   ]
  },
  {
   "cell_type": "markdown",
   "metadata": {},
   "source": [
    "### Simple Iterative:"
   ]
  },
  {
   "cell_type": "code",
   "execution_count": null,
   "metadata": {},
   "outputs": [],
   "source": [
    "def fibi(n):\n",
    "    if n > 2:\n",
    "     a = 1\n",
    "     b = 1\n",
    "     for i in range(2,n):\n",
    "        tmp = a\n",
    "        a = b\n",
    "        b = a + tmp\n",
    "     return b\n",
    "    else:\n",
    "      return 1\n",
    "\n",
    "for x in range(1,15):\n",
    "  print(f'Fib({x}): {fibi(x)}')\n"
   ]
  },
  {
   "cell_type": "markdown",
   "metadata": {},
   "source": [
    "### More Advanced Iterative:"
   ]
  },
  {
   "cell_type": "code",
   "execution_count": null,
   "metadata": {},
   "outputs": [],
   "source": [
    "def fibi2(n):\n",
    "    f = [1,1,1]\n",
    "    if n > 2:\n",
    "     for i in range(3,n+1):\n",
    "        f[i%3] = f[(i-1)%3] + f[(i-2)%3]\n",
    "    return f[n%3]\n",
    "\n",
    "for x in range(1,15):\n",
    "  print(f'Fib({x}): {fibi2(x)}')"
   ]
  }
 ],
 "metadata": {
  "kernelspec": {
   "display_name": "Python 3 (ipykernel)",
   "language": "python",
   "name": "python3"
  },
  "language_info": {
   "codemirror_mode": {
    "name": "ipython",
    "version": 3
   },
   "file_extension": ".py",
   "mimetype": "text/x-python",
   "name": "python",
   "nbconvert_exporter": "python",
   "pygments_lexer": "ipython3",
   "version": "3.11.7"
  }
 },
 "nbformat": 4,
 "nbformat_minor": 4
}
