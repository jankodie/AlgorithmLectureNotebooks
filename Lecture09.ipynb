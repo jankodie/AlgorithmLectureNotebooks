{
 "cells": [
  {
   "cell_type": "markdown",
   "metadata": {},
   "source": [
    "# Lecture 9"
   ]
  },
  {
   "cell_type": "markdown",
   "metadata": {},
   "source": [
    "Interesting thoughts on 1-based Indexing vs. 0-based Indexing:\n",
    "* [Why you're wrong about 0-based indexing](https://youtu.be/0uQ3bkiW5SE)\n",
    "* ... and the corresponding reaction video by [Primeagen](https://www.youtube.com/@ThePrimeTimeagen): [You Are WRONG About 0 Based Indexing](https://youtu.be/T7WBIPSZ87g)"
   ]
  },
  {
   "cell_type": "markdown",
   "metadata": {},
   "source": [
    "## Arrays"
   ]
  },
  {
   "cell_type": "code",
   "execution_count": null,
   "metadata": {},
   "outputs": [],
   "source": [
    "import numpy as np\n",
    "\n",
    "m = 20\n",
    "k = 15\n",
    "\n",
    "arr = np.zeros(m)\n",
    "\n",
    "print(f'{arr}')\n",
    "\n",
    "for i in range(1,k + 1):\n",
    "    arr[i-1] = i\n",
    "    \n",
    "print(f'{arr}')"
   ]
  },
  {
   "cell_type": "markdown",
   "metadata": {},
   "source": [
    "### Delete One Element"
   ]
  },
  {
   "cell_type": "code",
   "execution_count": null,
   "metadata": {},
   "outputs": [],
   "source": [
    "def delete(del_ind, arr, k):\n",
    "    if (del_ind < 0) or (del_ind > k-1):\n",
    "        return arr;\n",
    "    for i in range(del_ind, k + 1):\n",
    "        arr[i] = arr[i + 1]\n",
    "    return arr\n",
    "delete(10, arr, k)\n",
    "arr"
   ]
  },
  {
   "cell_type": "markdown",
   "metadata": {},
   "source": [
    "### Insert Element in the Middle"
   ]
  },
  {
   "cell_type": "code",
   "execution_count": null,
   "metadata": {},
   "outputs": [],
   "source": [
    "def insert_middle(u, val, arr, k):\n",
    "    if (u < 0) or (u > k):\n",
    "        return arr;\n",
    "    for i in range(k, u, -1):\n",
    "        arr[i] = arr[i - 1]\n",
    "    arr[u] = val\n",
    "    return arr\n",
    "insert_middle(10, 11, arr, k)\n",
    "arr"
   ]
  },
  {
   "cell_type": "markdown",
   "metadata": {},
   "source": [
    "### Insert at the End"
   ]
  },
  {
   "cell_type": "code",
   "execution_count": null,
   "metadata": {},
   "outputs": [],
   "source": [
    "def insert_end(val, arr, k, m):\n",
    "    if k == m:\n",
    "        return arr;\n",
    "    arr[k] = val\n",
    "    return arr\n",
    "\n",
    "insert_end(k + 1, arr, k, m)\n",
    "arr"
   ]
  },
  {
   "cell_type": "markdown",
   "metadata": {},
   "source": [
    "### Linear Search"
   ]
  },
  {
   "cell_type": "code",
   "execution_count": null,
   "metadata": {},
   "outputs": [],
   "source": [
    "def find_key(arr, n, key):\n",
    "    for i in range (0 , n):\n",
    "        if arr[i]==key:\n",
    "            return i\n",
    "    return -1\n",
    "key_pos = find_key(arr,k, 10)\n",
    "print(f'Pos {key_pos} -> Value {arr[key_pos]}')"
   ]
  }
 ],
 "metadata": {
  "kernelspec": {
   "display_name": "Python 3 (ipykernel)",
   "language": "python",
   "name": "python3"
  },
  "language_info": {
   "codemirror_mode": {
    "name": "ipython",
    "version": 3
   },
   "file_extension": ".py",
   "mimetype": "text/x-python",
   "name": "python",
   "nbconvert_exporter": "python",
   "pygments_lexer": "ipython3",
   "version": "3.11.7"
  }
 },
 "nbformat": 4,
 "nbformat_minor": 4
}
