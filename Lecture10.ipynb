{
 "cells": [
  {
   "cell_type": "markdown",
   "metadata": {},
   "source": [
    "# Lecture 10 - Lists"
   ]
  },
  {
   "cell_type": "markdown",
   "metadata": {},
   "source": [
    "## Simple List"
   ]
  },
  {
   "cell_type": "code",
   "execution_count": null,
   "metadata": {},
   "outputs": [],
   "source": [
    "import numpy as np\n",
    "\n",
    "length = 20\n",
    "payload = np.arange(100,99 + length)\n",
    "print(f'Payload: {payload}')\n",
    "succ = np.arange(1,length + 1)\n",
    "succ[length - 1] = -1\n",
    "print(f'Pointer: {succ}')"
   ]
  },
  {
   "cell_type": "markdown",
   "metadata": {},
   "source": [
    "## Test Simple List for Cycle"
   ]
  },
  {
   "cell_type": "code",
   "execution_count": null,
   "metadata": {},
   "outputs": [],
   "source": [
    "#RabbitHedghehogType=namedtuple('')\n",
    "\n",
    "def list_has_cycle(succ):\n",
    "    rabbit = succ[0]\n",
    "    hedghehog = succ[0]\n",
    "    steps = 0\n",
    "    while True:\n",
    "        steps += 1\n",
    "        rabbit = succ[rabbit] # rabbit.succ\n",
    "        if rabbit == -1: #if not rabbit:\n",
    "            # List is cycle free\n",
    "            return [False, steps]\n",
    "        rabbit = succ[rabbit] # rabbit.succ\n",
    "        if rabbit == -1: #if not rabbit:\n",
    "            return [False, steps]\n",
    "        hedghehog = succ[hedghehog] # hedghehog.succ\n",
    "        if rabbit == hedghehog:\n",
    "            # List has a cycle\n",
    "            return [True, steps]\n",
    "        \n",
    "print(f'Cycle Test -> {list_has_cycle(succ)}')\n",
    "succ[length-1] = length//2\n",
    "print(f'Cycle Test for new list -> {list_has_cycle(succ)}')"
   ]
  },
  {
   "cell_type": "markdown",
   "metadata": {},
   "source": [
    "## Test different Cycle Sizes"
   ]
  },
  {
   "cell_type": "code",
   "execution_count": null,
   "metadata": {},
   "outputs": [],
   "source": [
    "def test_cycle_test(array_length):\n",
    "    succ = np.arange(1,array_length + 1)\n",
    "    for i in range(0,array_length):\n",
    "        succ[array_length - 1] = i\n",
    "        print(f'Array {array_length}: {i} -> {list_has_cycle(succ)[1]} steps')\n",
    "\n",
    "test_cycle_test(10)\n",
    "test_cycle_test(20)\n",
    "test_cycle_test(30)"
   ]
  }
 ],
 "metadata": {
  "kernelspec": {
   "display_name": "Python 3 (ipykernel)",
   "language": "python",
   "name": "python3"
  },
  "language_info": {
   "codemirror_mode": {
    "name": "ipython",
    "version": 3
   },
   "file_extension": ".py",
   "mimetype": "text/x-python",
   "name": "python",
   "nbconvert_exporter": "python",
   "pygments_lexer": "ipython3",
   "version": "3.11.7"
  }
 },
 "nbformat": 4,
 "nbformat_minor": 4
}
