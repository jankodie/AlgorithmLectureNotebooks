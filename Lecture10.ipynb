{
 "cells": [
  {
   "cell_type": "markdown",
   "metadata": {},
   "source": [
    "# Lecture 10 - Lists"
   ]
  },
  {
   "cell_type": "markdown",
   "metadata": {},
   "source": [
    "## Simple List"
   ]
  },
  {
   "cell_type": "code",
   "execution_count": 1,
   "metadata": {},
   "outputs": [
    {
     "name": "stdout",
     "output_type": "stream",
     "text": [
      "Payload: [100 101 102 103 104 105 106 107 108 109 110 111 112 113 114 115 116 117\n",
      " 118]\n",
      "Pointer: [ 1  2  3  4  5  6  7  8  9 10 11 12 13 14 15 16 17 18 19 -1]\n"
     ]
    }
   ],
   "source": [
    "import numpy as np\n",
    "\n",
    "length = 20\n",
    "payload = np.arange(100,99 + length)\n",
    "print(f'Payload: {payload}')\n",
    "succ = np.arange(1,length + 1)\n",
    "succ[length - 1] = -1\n",
    "print(f'Pointer: {succ}')"
   ]
  },
  {
   "cell_type": "markdown",
   "metadata": {},
   "source": [
    "## Test Simple List for Cycle"
   ]
  },
  {
   "cell_type": "code",
   "execution_count": 2,
   "metadata": {},
   "outputs": [
    {
     "name": "stdout",
     "output_type": "stream",
     "text": [
      "Cycle Test -> [False, 10]\n",
      "Cycle Test for new list -> [True, 10]\n"
     ]
    }
   ],
   "source": [
    "#RabbitHedghehogType=namedtuple('')\n",
    "\n",
    "def list_has_cycle(succ):\n",
    "    rabbit = succ[0]\n",
    "    hedghehog = succ[0]\n",
    "    steps = 0\n",
    "    while True:\n",
    "        steps += 1\n",
    "        rabbit = succ[rabbit] # rabbit.succ\n",
    "        if rabbit == -1: #if not rabbit:\n",
    "            # List is cycle free\n",
    "            return [False, steps]\n",
    "        rabbit = succ[rabbit] # rabbit.succ\n",
    "        if rabbit == -1: #if not rabbit:\n",
    "            return [False, steps]\n",
    "        hedghehog = succ[hedghehog] # hedghehog.succ\n",
    "        if rabbit == hedghehog:\n",
    "            # List has a cycle\n",
    "            return [True, steps]\n",
    "        \n",
    "print(f'Cycle Test -> {list_has_cycle(succ)}')\n",
    "succ[length-1] = length//2\n",
    "print(f'Cycle Test for new list -> {list_has_cycle(succ)}')"
   ]
  },
  {
   "cell_type": "markdown",
   "metadata": {},
   "source": [
    "## Test different Cycle Sizes"
   ]
  },
  {
   "cell_type": "code",
   "execution_count": 3,
   "metadata": {},
   "outputs": [
    {
     "name": "stdout",
     "output_type": "stream",
     "text": [
      "Array 10: 0 -> 10 steps\n",
      "Array 10: 1 -> 9 steps\n",
      "Array 10: 2 -> 8 steps\n",
      "Array 10: 3 -> 7 steps\n",
      "Array 10: 4 -> 6 steps\n",
      "Array 10: 5 -> 5 steps\n",
      "Array 10: 6 -> 8 steps\n",
      "Array 10: 7 -> 6 steps\n",
      "Array 10: 8 -> 8 steps\n",
      "Array 10: 9 -> 8 steps\n",
      "Array 20: 0 -> 20 steps\n",
      "Array 20: 1 -> 19 steps\n",
      "Array 20: 2 -> 18 steps\n",
      "Array 20: 3 -> 17 steps\n",
      "Array 20: 4 -> 16 steps\n",
      "Array 20: 5 -> 15 steps\n",
      "Array 20: 6 -> 14 steps\n",
      "Array 20: 7 -> 13 steps\n",
      "Array 20: 8 -> 12 steps\n",
      "Array 20: 9 -> 11 steps\n",
      "Array 20: 10 -> 10 steps\n",
      "Array 20: 11 -> 18 steps\n",
      "Array 20: 12 -> 16 steps\n",
      "Array 20: 13 -> 14 steps\n",
      "Array 20: 14 -> 18 steps\n",
      "Array 20: 15 -> 15 steps\n",
      "Array 20: 16 -> 16 steps\n",
      "Array 20: 17 -> 18 steps\n",
      "Array 20: 18 -> 18 steps\n",
      "Array 20: 19 -> 18 steps\n",
      "Array 30: 0 -> 30 steps\n",
      "Array 30: 1 -> 29 steps\n",
      "Array 30: 2 -> 28 steps\n",
      "Array 30: 3 -> 27 steps\n",
      "Array 30: 4 -> 26 steps\n",
      "Array 30: 5 -> 25 steps\n",
      "Array 30: 6 -> 24 steps\n",
      "Array 30: 7 -> 23 steps\n",
      "Array 30: 8 -> 22 steps\n",
      "Array 30: 9 -> 21 steps\n",
      "Array 30: 10 -> 20 steps\n",
      "Array 30: 11 -> 19 steps\n",
      "Array 30: 12 -> 18 steps\n",
      "Array 30: 13 -> 17 steps\n",
      "Array 30: 14 -> 16 steps\n",
      "Array 30: 15 -> 15 steps\n",
      "Array 30: 16 -> 28 steps\n",
      "Array 30: 17 -> 26 steps\n",
      "Array 30: 18 -> 24 steps\n",
      "Array 30: 19 -> 22 steps\n",
      "Array 30: 20 -> 20 steps\n",
      "Array 30: 21 -> 27 steps\n",
      "Array 30: 22 -> 24 steps\n",
      "Array 30: 23 -> 28 steps\n",
      "Array 30: 24 -> 24 steps\n",
      "Array 30: 25 -> 25 steps\n",
      "Array 30: 26 -> 28 steps\n",
      "Array 30: 27 -> 27 steps\n",
      "Array 30: 28 -> 28 steps\n",
      "Array 30: 29 -> 28 steps\n"
     ]
    }
   ],
   "source": [
    "def test_cycle_test(array_length):\n",
    "    succ = np.arange(1,array_length + 1)\n",
    "    for i in range(0,array_length):\n",
    "        succ[array_length - 1] = i\n",
    "        print(f'Array {array_length}: {i} -> {list_has_cycle(succ)[1]} steps')\n",
    "\n",
    "test_cycle_test(10)\n",
    "test_cycle_test(20)\n",
    "test_cycle_test(30)"
   ]
  }
 ],
 "metadata": {
  "kernelspec": {
   "display_name": "Python 3",
   "language": "python",
   "name": "python3"
  },
  "language_info": {
   "codemirror_mode": {
    "name": "ipython",
    "version": 3
   },
   "file_extension": ".py",
   "mimetype": "text/x-python",
   "name": "python",
   "nbconvert_exporter": "python",
   "pygments_lexer": "ipython3",
   "version": "3.7.3"
  }
 },
 "nbformat": 4,
 "nbformat_minor": 2
}
