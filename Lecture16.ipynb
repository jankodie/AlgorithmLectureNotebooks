{
 "cells": [
  {
   "cell_type": "markdown",
   "metadata": {},
   "source": [
    "# Lecture 16 - Binary Search Trees (BSTs)"
   ]
  },
  {
   "cell_type": "markdown",
   "metadata": {},
   "source": [
    "## Definition"
   ]
  },
  {
   "cell_type": "code",
   "execution_count": null,
   "metadata": {},
   "outputs": [],
   "source": [
    "class TreeNode(object):\n",
    "    '''\n",
    "    Binary tree node\n",
    "    '''\n",
    "    def __init__(self, key, lchild = None, rchild = None):\n",
    "        self.key = key\n",
    "        self.lchild = lchild\n",
    "        self.rchild = rchild"
   ]
  },
  {
   "cell_type": "markdown",
   "metadata": {},
   "source": [
    "## Print a Tree"
   ]
  },
  {
   "cell_type": "code",
   "execution_count": null,
   "metadata": {},
   "outputs": [],
   "source": [
    "def print_tree(tree):\n",
    "    if not tree:\n",
    "        print(f'Empty tree')\n",
    "    if tree.lchild:\n",
    "        print_tree(tree.lchild)\n",
    "    print(f'{tree.key}')\n",
    "    if tree.rchild:\n",
    "        print_tree(tree.rchild)"
   ]
  },
  {
   "cell_type": "markdown",
   "metadata": {},
   "source": [
    "## Insert a Key"
   ]
  },
  {
   "cell_type": "code",
   "execution_count": null,
   "metadata": {},
   "outputs": [],
   "source": [
    "def insert(tree, key):\n",
    "        if not tree:\n",
    "            return TreeNode(key)\n",
    "        else:\n",
    "            if key < tree.key:\n",
    "                tree.lchild = insert(tree.lchild, key)\n",
    "            elif key > tree.key:\n",
    "                tree.rchild = insert(tree.rchild ,key)\n",
    "            else:\n",
    "                print(f'Error: Duplicate key {key}')\n",
    "            return tree\n",
    "        \n",
    "K = [18, 15, 20, 11, 12, 27, 17, 6, 21, 8, 14, 1, 23, 0]\n",
    "bin_tree = None\n",
    "for key in K:\n",
    "    bin_tree = insert(bin_tree, key)\n",
    "print_tree(bin_tree)\n",
    "insert(bin_tree, 11)"
   ]
  },
  {
   "cell_type": "markdown",
   "metadata": {},
   "source": [
    "## Find a Key"
   ]
  },
  {
   "cell_type": "code",
   "execution_count": null,
   "metadata": {},
   "outputs": [],
   "source": [
    "def find(tree, key):\n",
    "    if tree:\n",
    "        if key < tree.key:\n",
    "            return find(tree.lchild, key)\n",
    "        if key > tree.key:\n",
    "            return find(tree.rchild, key)\n",
    "        return tree\n",
    "    else:\n",
    "        return None\n",
    "    \n",
    "node = find(bin_tree,8)\n",
    "print(f'{node.key}')"
   ]
  },
  {
   "cell_type": "markdown",
   "metadata": {},
   "source": [
    "## Delete a Key"
   ]
  },
  {
   "cell_type": "code",
   "execution_count": null,
   "metadata": {},
   "outputs": [],
   "source": [
    "def find_max(tree):\n",
    "    while tree.rchild:\n",
    "        tree = tree.rchild\n",
    "    return tree\n",
    "\n",
    "def find_min(tree):\n",
    "    while tree.lchild:\n",
    "        tree = tree.lchild\n",
    "    return tree\n",
    "\n",
    "def delete(tree, key):\n",
    "    if not tree:\n",
    "        print(f'Delete-Error: Key {key} does not exist')\n",
    "        return None\n",
    "    if key < tree.key:\n",
    "        tree.lchild = delete(tree.lchild, key)\n",
    "    elif key > tree.key:\n",
    "        tree.rchild = delete(tree.rchild, key)\n",
    "    else:\n",
    "        if tree.lchild and tree.rchild:\n",
    "            max_node = find_max(tree.lchild)\n",
    "            tmp = max_node.key\n",
    "            max_node.key = tree.key\n",
    "            tree.key = tmp\n",
    "            tree.lchild = delete(tree.lchild, key)\n",
    "        elif tree.lchild:\n",
    "            return tree.lchild\n",
    "        elif tree.rchild:\n",
    "            return tree.rchild\n",
    "        else:\n",
    "            return None\n",
    "    return tree\n",
    "\n",
    "max_tree = find_max(bin_tree)\n",
    "print(f'Max of tree: {max_tree.key}')\n",
    "\n",
    "min_tree = find_min(bin_tree)\n",
    "print(f'Min of tree: {min_tree.key}')\n",
    "\n",
    "new_bin_tree = delete(bin_tree,8)\n",
    "print('Complete tree:')\n",
    "print_tree(new_bin_tree)"
   ]
  }
 ],
 "metadata": {
  "kernelspec": {
   "display_name": "Python 3 (ipykernel)",
   "language": "python",
   "name": "python3"
  },
  "language_info": {
   "codemirror_mode": {
    "name": "ipython",
    "version": 3
   },
   "file_extension": ".py",
   "mimetype": "text/x-python",
   "name": "python",
   "nbconvert_exporter": "python",
   "pygments_lexer": "ipython3",
   "version": "3.11.7"
  }
 },
 "nbformat": 4,
 "nbformat_minor": 2
}
