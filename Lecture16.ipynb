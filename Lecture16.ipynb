{
 "cells": [
  {
   "cell_type": "markdown",
   "metadata": {},
   "source": [
    "# Lecture 16 - Binary Search Trees"
   ]
  },
  {
   "cell_type": "markdown",
   "metadata": {},
   "source": [
    "## Definition"
   ]
  },
  {
   "cell_type": "code",
   "execution_count": 13,
   "metadata": {},
   "outputs": [],
   "source": [
    "class TreeNode(object):\n",
    "    '''\n",
    "    Binary tree node\n",
    "    '''\n",
    "    def __init__(self, key, lchild = None, rchild = None):\n",
    "        self.key = key\n",
    "        self.lchild = lchild\n",
    "        self.rchild = rchild"
   ]
  },
  {
   "cell_type": "markdown",
   "metadata": {},
   "source": [
    "## Print a Tree"
   ]
  },
  {
   "cell_type": "code",
   "execution_count": 14,
   "metadata": {},
   "outputs": [],
   "source": [
    "def print_tree(tree):\n",
    "    if not tree:\n",
    "        print(f'Empty tree')\n",
    "    if tree.lchild:\n",
    "        print_tree(tree.lchild)\n",
    "    print(f'{tree.key}')\n",
    "    if tree.rchild:\n",
    "        print_tree(tree.rchild)"
   ]
  },
  {
   "cell_type": "markdown",
   "metadata": {},
   "source": [
    "## Insert a Key"
   ]
  },
  {
   "cell_type": "code",
   "execution_count": 15,
   "metadata": {},
   "outputs": [
    {
     "name": "stdout",
     "output_type": "stream",
     "text": [
      "0\n",
      "1\n",
      "6\n",
      "8\n",
      "11\n",
      "12\n",
      "14\n",
      "15\n",
      "17\n",
      "18\n",
      "20\n",
      "21\n",
      "23\n",
      "27\n"
     ]
    }
   ],
   "source": [
    "def insert(tree, key):\n",
    "        if not tree:\n",
    "            return TreeNode(key)\n",
    "        else:\n",
    "            if key < tree.key:\n",
    "                tree.lchild = insert(tree.lchild, key)\n",
    "            elif key > tree.key:\n",
    "                tree.rchild = insert(tree.rchild ,key)\n",
    "            else:\n",
    "                print(f'Error: Duplicate key {key}')\n",
    "            return tree\n",
    "        \n",
    "K = [18, 15, 20, 11, 12, 27, 17, 6, 21, 8, 14, 1, 23, 0]\n",
    "bin_tree = None\n",
    "for key in K:\n",
    "    bin_tree = insert(bin_tree, key)\n",
    "print_tree(bin_tree)"
   ]
  },
  {
   "cell_type": "markdown",
   "metadata": {},
   "source": [
    "## Find a Key"
   ]
  },
  {
   "cell_type": "code",
   "execution_count": 16,
   "metadata": {},
   "outputs": [
    {
     "name": "stdout",
     "output_type": "stream",
     "text": [
      "8\n"
     ]
    }
   ],
   "source": [
    "def find(tree, key):\n",
    "    if tree:\n",
    "        if key < tree.key:\n",
    "            return find(tree.lchild, key)\n",
    "        if key > tree.key:\n",
    "            return find(tree.rchild, key)\n",
    "        return tree\n",
    "    else:\n",
    "        return None\n",
    "    \n",
    "node = find(bin_tree,8)\n",
    "print(f'{node.key}')"
   ]
  },
  {
   "cell_type": "markdown",
   "metadata": {},
   "source": [
    "## Delete a Key"
   ]
  },
  {
   "cell_type": "code",
   "execution_count": 17,
   "metadata": {},
   "outputs": [
    {
     "name": "stdout",
     "output_type": "stream",
     "text": [
      "Max of tree: 27\n",
      "Min of tree: 0\n",
      "Complete tree:\n",
      "0\n",
      "1\n",
      "6\n",
      "11\n",
      "12\n",
      "14\n",
      "15\n",
      "17\n",
      "18\n",
      "20\n",
      "21\n",
      "23\n",
      "27\n"
     ]
    }
   ],
   "source": [
    "def find_max(tree):\n",
    "    while tree.rchild:\n",
    "        tree = tree.rchild\n",
    "    return tree\n",
    "\n",
    "def find_min(tree):\n",
    "    while tree.lchild:\n",
    "        tree = tree.lchild\n",
    "    return tree\n",
    "\n",
    "def delete(tree, key):\n",
    "    if not tree:\n",
    "        print(f'Delete-Error: Key {key} does not exist')\n",
    "        return None\n",
    "    if key < tree.key:\n",
    "        tree.lchild = delete(tree.lchild, key)\n",
    "    elif key > tree.key:\n",
    "        tree.rchild = delete(tree.rchild, key)\n",
    "    else:\n",
    "        if tree.lchild and tree.rchild:\n",
    "            max_node = find_max(tree.lchild)\n",
    "            tmp = max_node.key\n",
    "            max_node.key = tree.key\n",
    "            tree.key = tmp\n",
    "            tree.lchild = delete(tree.lchild, key)\n",
    "        elif tree.lchild:\n",
    "            return tree.lchild\n",
    "        elif tree.rchild:\n",
    "            return tree.rchild\n",
    "        else:\n",
    "            return None\n",
    "    return tree\n",
    "\n",
    "max_tree = find_max(bin_tree)\n",
    "print(f'Max of tree: {max_tree.key}')\n",
    "\n",
    "min_tree = find_min(bin_tree)\n",
    "print(f'Min of tree: {min_tree.key}')\n",
    "\n",
    "new_bin_tree = delete(bin_tree,8)\n",
    "print('Complete tree:')\n",
    "print_tree(new_bin_tree)"
   ]
  }
 ],
 "metadata": {
  "kernelspec": {
   "display_name": "Python 3",
   "language": "python",
   "name": "python3"
  },
  "language_info": {
   "codemirror_mode": {
    "name": "ipython",
    "version": 3
   },
   "file_extension": ".py",
   "mimetype": "text/x-python",
   "name": "python",
   "nbconvert_exporter": "python",
   "pygments_lexer": "ipython3",
   "version": "3.7.3"
  }
 },
 "nbformat": 4,
 "nbformat_minor": 2
}
