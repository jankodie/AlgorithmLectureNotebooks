{
 "cells": [
  {
   "cell_type": "markdown",
   "metadata": {},
   "source": [
    "# Lecture 18 - Hashing"
   ]
  },
  {
   "cell_type": "markdown",
   "metadata": {},
   "source": [
    "## Hashing of Strings"
   ]
  },
  {
   "cell_type": "markdown",
   "metadata": {},
   "source": [
    "Using the Horner schema to calculate a Hash value of a given string:"
   ]
  },
  {
   "cell_type": "code",
   "execution_count": null,
   "metadata": {},
   "outputs": [],
   "source": [
    "def hash(string, base, modulus):\n",
    "    h = 0\n",
    "    for char in string:\n",
    "        h = (h * base + ord(char)) % modulus\n",
    "    return h\n",
    "\n",
    "b = 31\n",
    "m = 101\n",
    "\n",
    "print(f'hash(\"DHBW\"): {hash(\"DHBW\", b, m)}')\n",
    "print(f'hash(\"Stuttgart\"): {hash(\"Stuttgart\", b, m)}')"
   ]
  },
  {
   "cell_type": "markdown",
   "metadata": {},
   "source": [
    "or a little bit more \"functional\":"
   ]
  },
  {
   "cell_type": "code",
   "execution_count": null,
   "metadata": {},
   "outputs": [],
   "source": [
    "from functools import partial\n",
    "\n",
    "my_hash = partial(hash, base = 31, modulus = 101)\n",
    "\n",
    "for s in [\"DHBW\", \"Stuttgart\"]:\n",
    "    print(f'h(\"{s}\"): {my_hash(s)}')"
   ]
  }
 ],
 "metadata": {
  "kernelspec": {
   "display_name": "Python 3 (ipykernel)",
   "language": "python",
   "name": "python3"
  },
  "language_info": {
   "codemirror_mode": {
    "name": "ipython",
    "version": 3
   },
   "file_extension": ".py",
   "mimetype": "text/x-python",
   "name": "python",
   "nbconvert_exporter": "python",
   "pygments_lexer": "ipython3",
   "version": "3.11.7"
  }
 },
 "nbformat": 4,
 "nbformat_minor": 2
}
