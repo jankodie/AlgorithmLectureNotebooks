{
 "cells": [
  {
   "cell_type": "markdown",
   "metadata": {},
   "source": [
    "# Lecture 7 & 8"
   ]
  },
  {
   "cell_type": "markdown",
   "metadata": {},
   "source": [
    "## Fibonacci dynamic"
   ]
  },
  {
   "cell_type": "code",
   "execution_count": null,
   "metadata": {},
   "outputs": [],
   "source": [
    "from functools import lru_cache\n",
    "\n",
    "@lru_cache(maxsize=512)\n",
    "def fibr(n):\n",
    "    if n == 1:\n",
    "      return 1\n",
    "    if n == 2:\n",
    "      return 1\n",
    "    return fibr(n-1) + fibr(n-2)\n",
    "   \n",
    "for x in range(1,20):\n",
    "  print(f'Fib({x}): {fibr(x)}')"
   ]
  },
  {
   "cell_type": "markdown",
   "metadata": {},
   "source": [
    "## How many Steps to 1?"
   ]
  },
  {
   "cell_type": "code",
   "execution_count": null,
   "metadata": {},
   "outputs": [],
   "source": [
    "import numpy as np\n",
    "\n",
    "@lru_cache(maxsize=512)\n",
    "def steps(n):\n",
    "    count = [2000,2000,2000]\n",
    "    if n > 1:\n",
    "        count[0] = steps(n-1) + 1\n",
    "    else:\n",
    "        return 0\n",
    "    if n%2 == 0:\n",
    "        count[1] = steps(n//2) + 1\n",
    "    if n%3 == 0:\n",
    "        count[2] = steps(n//3) + 1\n",
    "    return np.amin(count)\n",
    "\n",
    "for n in range(1,21):\n",
    "  print(f'Steps({n}): {steps(n)}')"
   ]
  },
  {
   "cell_type": "markdown",
   "metadata": {},
   "source": [
    "## Ackermann Function"
   ]
  },
  {
   "cell_type": "code",
   "execution_count": null,
   "metadata": {},
   "outputs": [],
   "source": [
    "@lru_cache(maxsize=2048)\n",
    "def a(n,m):\n",
    "    if n == 0:\n",
    "        return m + 1\n",
    "    if m == 0:\n",
    "        return a(n-1,1)\n",
    "    else:\n",
    "        return a(n-1,a(n,m-1))\n",
    "    \n",
    "for n in range(0,4):\n",
    "    for m in range(0,10):\n",
    "      print(f'Ackermann({n},{m}): {a(n,m)}')"
   ]
  },
  {
   "cell_type": "markdown",
   "metadata": {},
   "source": [
    "## Binary Search in an Array"
   ]
  },
  {
   "cell_type": "code",
   "execution_count": null,
   "metadata": {},
   "outputs": [],
   "source": [
    "length = 20\n",
    "d = np.sort(np.random.randint(1,100,size=length))\n",
    "#d = [10, 15, 24, 24, 26, 47, 50, 53, 53, 54, 59, 65, 76, 77, 78, 78, 83, 89, 97, 98]\n",
    "\n",
    "print(f'Array: {d}')\n",
    "\n",
    "def find(key, start, end, array):\n",
    "    if start > end:\n",
    "        return -1\n",
    "    m = (start + end) // 2\n",
    "    if key < array[m]:\n",
    "        return find(key, start, m - 1, array)\n",
    "    if array[m] < key:\n",
    "        return find(key, m + 1, end, array)\n",
    "    else:\n",
    "        return m\n",
    "\n",
    "print(f'Search for value @ {length//2-1} -> {d[length//2-1]}: {find(d[length//2-1], 0, length-1, d)} ')\n",
    "print(f'Search for value @ {0} -> {d[0]}: {find(d[0], 0, length-1, d)} ')\n",
    "print(f'Search for value @ {length-1} -> {d[length-1]}: {find(d[length-1], 0, length-1, d)} ')\n",
    "rand_pos = np.random.randint(0,length)\n",
    "print(f'Search for value @ {rand_pos} -> {d[rand_pos]}: {find(d[rand_pos], 0, length-1, d)} ')\n",
    "print(f'Search for not existing value -> 333: {find(333, 0, length-1, d)} ')\n",
    "print(f'Search for not existing value -> -10: {find(-10, 0, length-1, d)} ')\n",
    "#find(53,0,length-1,d)"
   ]
  }
 ],
 "metadata": {
  "kernelspec": {
   "display_name": "Python 3 (ipykernel)",
   "language": "python",
   "name": "python3"
  },
  "language_info": {
   "codemirror_mode": {
    "name": "ipython",
    "version": 3
   },
   "file_extension": ".py",
   "mimetype": "text/x-python",
   "name": "python",
   "nbconvert_exporter": "python",
   "pygments_lexer": "ipython3",
   "version": "3.11.7"
  }
 },
 "nbformat": 4,
 "nbformat_minor": 2
}
