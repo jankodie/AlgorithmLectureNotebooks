{
 "cells": [
  {
   "cell_type": "markdown",
   "metadata": {},
   "source": [
    "# Lecture 14 and 15 - Heaps, Heapsort and comparison based Sorting at all"
   ]
  },
  {
   "cell_type": "markdown",
   "metadata": {},
   "source": [
    "## Heap Operations"
   ]
  },
  {
   "cell_type": "code",
   "execution_count": 2,
   "metadata": {},
   "outputs": [],
   "source": [
    "def bubble_up(arr , node):\n",
    "    if node == 0:\n",
    "        # node is root\n",
    "        return\n",
    "    parent = (node - 1) // 2\n",
    "    if arr[node] > arr[parent]:\n",
    "            arr[node], arr[parent] = arr[parent], arr[node]\n",
    "            bubble_up(arr, parent)\n",
    "            \n",
    "def bubble_down(arr, node, end):\n",
    "    lci = 2 * node + 1\n",
    "    if lci < end:\n",
    "        # node is not a leaf\n",
    "        gci = lci\n",
    "        rci = lci + 1\n",
    "        if rci < end:\n",
    "            if arr[rci] > arr[lci]:\n",
    "                gci = rci\n",
    "        if arr[gci] > arr[node]:\n",
    "            arr[node], arr[gci] = arr[gci], arr[node]\n",
    "            bubble_down(arr, gci, end)\n",
    "\n",
    "def heapify(arr):\n",
    "    end = len(arr)\n",
    "    last = (end - 1) // 2\n",
    "    # last inner node\n",
    "    for node in range(last ,-1 ,-1):\n",
    "        bubble_down(arr, node, end)\n"
   ]
  },
  {
   "cell_type": "code",
   "execution_count": 3,
   "metadata": {},
   "outputs": [
    {
     "name": "stdout",
     "output_type": "stream",
     "text": [
      "['dd', 'da', 'cb', 'd', 'bd', 'ac', 'ab', 'ba', 'aa', 'bc', 'b']\n"
     ]
    }
   ],
   "source": [
    "W = [\"da\",\"bd\", \"ab\", \"aa\", \"b\", \"ac\", \"cb\", \"ba\", \"d\", \"bc\", \"dd\"]\n",
    "heapify(W)\n",
    "print(f'{W}')"
   ]
  },
  {
   "cell_type": "markdown",
   "metadata": {},
   "source": [
    "## Heapsort"
   ]
  },
  {
   "cell_type": "code",
   "execution_count": 4,
   "metadata": {},
   "outputs": [
    {
     "name": "stdout",
     "output_type": "stream",
     "text": [
      "[0, 3, 7, 9, 14, 15, 22, 22, 42]\n"
     ]
    }
   ],
   "source": [
    "def heapsort(arr):\n",
    "    last = len(arr) - 1\n",
    "    heapify(arr)\n",
    "    for i in range(last, 0, -1):\n",
    "        arr[0], arr[i] = arr[i], arr[0]\n",
    "        bubble_down(arr, 0, i)\n",
    "    return arr\n",
    "\n",
    "array = [22, 42, 22, 9, 3, 0, 7, 14, 15]\n",
    "heapsort(array)\n",
    "print(f'{array}')"
   ]
  },
  {
   "cell_type": "markdown",
   "metadata": {},
   "source": [
    "## Comparison based Sorting - $log(n!) \\in \\Theta(n * log(n))$"
   ]
  },
  {
   "cell_type": "markdown",
   "metadata": {},
   "source": [
    " Stirling Formula:\n",
    " $$\n",
    "    \\lim_{n \\to \\infty}\\frac{n!}{\\sqrt{2\\pi n}\\left (\\frac{n}{e}\\right)^n} = 1 \\longrightarrow \n",
    "    log(n!) \\in \\Theta(n* log(n))\n",
    " $$"
   ]
  },
  {
   "cell_type": "code",
   "execution_count": 5,
   "metadata": {},
   "outputs": [
    {
     "data": {
      "application/vnd.jupyter.widget-view+json": {
       "model_id": "5e6b2b23001d4ecaafb1c59bcd463982",
       "version_major": 2,
       "version_minor": 0
      },
      "text/plain": [
       "interactive(children=(FloatLogSlider(value=50.0, description='max x', max=3.0, step=0.2), FloatLogSlider(value…"
      ]
     },
     "metadata": {},
     "output_type": "display_data"
    }
   ],
   "source": [
    "import matplotlib.pyplot as plt\n",
    "import numpy as np\n",
    "import ipywidgets as widgets\n",
    "\n",
    "def logfac(n):\n",
    "    return np.math.log(np.math.factorial(n))\n",
    "\n",
    "vec_logfac = np.vectorize(logfac)\n",
    "\n",
    "def calc_logfac(x):\n",
    "    return vec_logfac(np.floor(x))\n",
    "\n",
    "@widgets.interact_manual(\n",
    "    #xmax=(5, 1000, 100), \n",
    "    xmax = widgets.FloatLogSlider(\n",
    "        value=50,\n",
    "        base=10,\n",
    "        min=0, # max exponent of base\n",
    "        max=3, # min exponent of base\n",
    "        step=0.2, # exponent step\n",
    "        description='max x'\n",
    "    ),\n",
    "    #ymax=(5, 2000000, 100)\n",
    "    ymax = widgets.FloatLogSlider(\n",
    "        value=300,\n",
    "        base=10,\n",
    "        min=-1, # max exponent of base\n",
    "        max=8, # min exponent of base\n",
    "        step=0.2, # exponent step\n",
    "        description='max y'\n",
    "    ),\n",
    "    yscale=['log', 'linear'])\n",
    "def f(xmax, ymax, yscale='log', grid=True):\n",
    "    plt.figure(2)\n",
    "    x = np.linspace(1.1, xmax, num=1000, dtype=np.float64)\n",
    "    plt.plot(x, x * np.log(x), color = 'green')\n",
    "    plt.plot(x, calc_logfac(x), color = 'violet')\n",
    "    plt.yscale(yscale)\n",
    "    plt.ylim(0.1, ymax)\n",
    "    plt.grid(grid)\n",
    "    plt.show()"
   ]
  }
 ],
 "metadata": {
  "kernelspec": {
   "display_name": "Python 3",
   "language": "python",
   "name": "python3"
  },
  "language_info": {
   "codemirror_mode": {
    "name": "ipython",
    "version": 3
   },
   "file_extension": ".py",
   "mimetype": "text/x-python",
   "name": "python",
   "nbconvert_exporter": "python",
   "pygments_lexer": "ipython3",
   "version": "3.7.3"
  }
 },
 "nbformat": 4,
 "nbformat_minor": 2
}
