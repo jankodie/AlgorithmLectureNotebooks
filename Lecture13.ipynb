{
 "cells": [
  {
   "cell_type": "markdown",
   "metadata": {},
   "source": [
    "# Lecture 13 - Mergesort"
   ]
  },
  {
   "cell_type": "code",
   "execution_count": 1,
   "metadata": {},
   "outputs": [
    {
     "name": "stdout",
     "output_type": "stream",
     "text": [
      "Unsorted: [24  6  5 22 61 36 97 94 97 92 18 86 26 41 87 49 69 54 45 17]\n",
      "Mergesort-Sorted: [ 5  5  5 17 17 17 17 17 17 17 17 17 17 22 36 36 92 92 92 92]\n",
      "Unsorted: [2, 17, 5, 3, 9, 4, 11, 13, 5]\n",
      "Mergesort-Sorted: [2, 3, 4, 5, 5, 9, 11, 13, 17]\n"
     ]
    }
   ],
   "source": [
    "import numpy as np\n",
    "\n",
    "length = 20\n",
    "array = np.random.randint(100, size=length)\n",
    "\n",
    "def merge_sort(arr):\n",
    "    middle = len(arr)//2\n",
    "    if len(arr) <= 1:\n",
    "        return arr\n",
    "    arr1 = arr[:middle]\n",
    "    arr2 = arr[middle:]\n",
    "    arr1 = merge_sort(arr1)\n",
    "    arr2 = merge_sort(arr2)\n",
    "    e1 = 0; e2 = 0\n",
    "    for i in range(len(arr)):\n",
    "        if e1 >= len(arr1):\n",
    "            arr[i] = arr2[e2]; e2 = e2 + 1\n",
    "        elif e2 >= len(arr2):\n",
    "            arr[i] = arr1[e1]; e1 = e1 + 1\n",
    "        elif arr1[e1] <= arr2[e2]:\n",
    "            arr[i] = arr1[e1]; e1 = e1 + 1\n",
    "        else:\n",
    "            arr[i] = arr2[e2]; e2 = e2 + 1\n",
    "    return arr\n",
    "\n",
    "\n",
    "def merge_sort_np(arr):\n",
    "    middle = len(arr)//2\n",
    "    if len(arr) <= 1:\n",
    "        return arr\n",
    "    arr1 = np.copy(arr[:middle])\n",
    "    arr2 = np.copy(arr[middle:])\n",
    "    arr1 = merge_sort(arr1)\n",
    "    arr2 = merge_sort(arr2)\n",
    "    e1 = 0; e2 = 0\n",
    "    for i in range(len(arr)):\n",
    "        if e1 >= len(arr1):\n",
    "            arr[i] = arr2[e2]; e2 = e2 + 1\n",
    "        elif e2 >= len(arr2):\n",
    "            arr[i] = arr1[e1]; e1 = e1 + 1\n",
    "        elif arr1[e1] <= arr2[e2]:\n",
    "            arr[i] = arr1[e1]; e1 = e1 + 1\n",
    "        else:\n",
    "            arr[i] = arr2[e2]; e2 = e2 + 1\n",
    "    return arr\n",
    "\n",
    "print(f'Unsorted: {array}')\n",
    "print(f'Mergesort-Sorted: {merge_sort_np(array)}')\n",
    "\n",
    "example_array = [2, 17, 5, 3, 9, 4, 11, 13, 5]\n",
    "print(f'Unsorted: {example_array}')\n",
    "print(f'Mergesort-Sorted: {merge_sort(example_array)}') "
   ]
  },
  {
   "cell_type": "markdown",
   "metadata": {},
   "source": [
    "## Bottom-Up Mergesort"
   ]
  },
  {
   "cell_type": "code",
   "execution_count": 2,
   "metadata": {},
   "outputs": [
    {
     "name": "stdout",
     "output_type": "stream",
     "text": [
      "Unsorted: [2, 17, 5, 3, 9, 4, 11, 13, 5]\n",
      "Mergesort-Sorted: [2, 3, 4, 5, 5, 9, 11, 13, 17]\n"
     ]
    }
   ],
   "source": [
    "# Taken from https://gist.github.com/etrepum/6689110\n",
    "\n",
    "def bottom_up_merge_sort(arr):\n",
    "    if not arr:\n",
    "        return []\n",
    "    arrs = [[x] for x in arr]\n",
    "    while len(arrs) > 1:\n",
    "        arrs = merge_arrays(arrs)\n",
    "    return arrs[0]\n",
    "\n",
    "def merge_arrays(arrs):\n",
    "    result = []\n",
    "    for i in range(0, len(arrs) // 2):\n",
    "        result.append(merge_two_arrays(arrs[i*2], arrs[i*2 + 1]))\n",
    "    if len(arrs) % 2:\n",
    "        result.append(arrs[-1])\n",
    "    return result\n",
    "\n",
    "def merge_two_arrays(xs, ys):\n",
    "    i = 0\n",
    "    j = 0\n",
    "    result = []\n",
    "    while i < len(xs) and j < len(ys):\n",
    "        x = xs[i]\n",
    "        y = ys[j]\n",
    "        if x > y:\n",
    "            result.append(y)\n",
    "            j += 1\n",
    "        else:\n",
    "            result.append(x)\n",
    "            i += 1\n",
    "    result.extend(xs[i:])\n",
    "    result.extend(ys[j:])\n",
    "    return result\n",
    "\n",
    "example_array = [2, 17, 5, 3, 9, 4, 11, 13, 5]\n",
    "print(f'Unsorted: {example_array}')\n",
    "print(f'Mergesort-Sorted: {bottom_up_merge_sort(example_array)}') "
   ]
  }
 ],
 "metadata": {
  "kernelspec": {
   "display_name": "Python 3",
   "language": "python",
   "name": "python3"
  },
  "language_info": {
   "codemirror_mode": {
    "name": "ipython",
    "version": 3
   },
   "file_extension": ".py",
   "mimetype": "text/x-python",
   "name": "python",
   "nbconvert_exporter": "python",
   "pygments_lexer": "ipython3",
   "version": "3.7.3"
  }
 },
 "nbformat": 4,
 "nbformat_minor": 2
}
